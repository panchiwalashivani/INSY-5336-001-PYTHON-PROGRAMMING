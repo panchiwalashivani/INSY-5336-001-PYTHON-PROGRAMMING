{
  "nbformat": 4,
  "nbformat_minor": 0,
  "metadata": {
    "colab": {
      "provenance": []
    },
    "kernelspec": {
      "name": "python3",
      "display_name": "Python 3"
    },
    "language_info": {
      "name": "python"
    }
  },
  "cells": [
    {
      "cell_type": "markdown",
      "source": [
        "## Operators\n",
        "1) Write a program to find the remainder of two numbers without using the modulus operator."
      ],
      "metadata": {
        "id": "uKd0g6yJ5Sx9"
      }
    },
    {
      "cell_type": "markdown",
      "source": [
        "## Algorithm\n",
        "\n",
        "1.   Assign the value 27 to the variable a.\n",
        "2.Assign the value 4 to the variable b.\n",
        "3.Calculate a // b, which is the integer division of 27 by 4. The result is 6.\n",
        "4.Multiply the result of step 3 by b, which gives 24.\n",
        "5.Subtract the result of step 4 from a. The result is 3.\n",
        "6.Assign the result of step 5 to the variable result.\n",
        "7.Print the value of result.\n",
        "\n",
        "\n"
      ],
      "metadata": {
        "id": "moG9uVvHY2w5"
      }
    },
    {
      "cell_type": "code",
      "execution_count": null,
      "metadata": {
        "colab": {
          "base_uri": "https://localhost:8080/"
        },
        "id": "kE7gYzrJ0Vah",
        "outputId": "21a9adbe-aba7-42db-ecd7-7f4b3447bcb9"
      },
      "outputs": [
        {
          "output_type": "stream",
          "name": "stdout",
          "text": [
            "3\n"
          ]
        }
      ],
      "source": [
        "a = 27\n",
        "b = 4\n",
        "\n",
        "result = a - (a // b) * b\n",
        "print(result)"
      ]
    },
    {
      "cell_type": "markdown",
      "source": [
        "2) Write a program to swap two variables without using a third variable."
      ],
      "metadata": {
        "id": "XVMXTsj55nnJ"
      }
    },
    {
      "cell_type": "markdown",
      "source": [
        "##Algorithm\n",
        "\n",
        "\n",
        "Assign the value 5 to the variable x.\n",
        "Assign the value 10 to the variable y.\n",
        "Calculate x ^ y using the bitwise XOR operator. This swaps the values of x and y without needing a temporary variable.\n",
        "Assign the result of step 3 to x.\n",
        "Calculate x ^ y again using the bitwise XOR operator. This swaps the values of x and y again, but now x contains the original value of y.\n",
        "Assign the result of step 5 to y.\n",
        "Calculate x ^ y using the bitwise XOR operator one more time. This swaps the values of x and y one final time, so that x contains the original value of x and y contains the original value of y.\n",
        "Print the values of x and y separated by a space.  \n",
        "\n",
        "\n",
        "\n",
        "\n"
      ],
      "metadata": {
        "id": "u47JX31BZZxp"
      }
    },
    {
      "cell_type": "code",
      "source": [
        "x = 5\n",
        "y = 10\n",
        "\n",
        "x = x ^ y\n",
        "y = x ^ y\n",
        "x = x ^ y\n",
        "\n",
        "print(x, y)"
      ],
      "metadata": {
        "colab": {
          "base_uri": "https://localhost:8080/"
        },
        "id": "Wxissawx5p2p",
        "outputId": "03e0a632-5184-4adc-ad5a-291c3286f2da"
      },
      "execution_count": null,
      "outputs": [
        {
          "output_type": "stream",
          "name": "stdout",
          "text": [
            "10 5\n"
          ]
        }
      ]
    },
    {
      "cell_type": "markdown",
      "source": [
        "3) Write a program to check if a given number is even or odd using the bitwise operator."
      ],
      "metadata": {
        "id": "qoNZxgoO5trn"
      }
    },
    {
      "cell_type": "markdown",
      "source": [
        "##Algorithm\n",
        "Assign the value 8 to the variable num.\n",
        "Perform a bitwise AND operation between num and 1 (num & 1).\n",
        "If the result of step 2 is non-zero, print \"Odd\". Otherwise, print \"Even\".\n",
        "If num is odd, then the least significant bit of num will be 1, and the result of num & 1 will be 1. Therefore, the string \"Odd\" will be printed.\n",
        "If num is even, then the least significant bit of num will be 0, and the result of num & 1 will be 0. Therefore, the string \"Even\" will be printed.\n",
        "The program terminates."
      ],
      "metadata": {
        "id": "nl6MBra3aDfM"
      }
    },
    {
      "cell_type": "code",
      "source": [
        "num = 8\n",
        "if num & 1:\n",
        "    print(\"Odd\")\n",
        "else:\n",
        "    print(\"Even\")"
      ],
      "metadata": {
        "colab": {
          "base_uri": "https://localhost:8080/"
        },
        "id": "FCqzmOkA5yQP",
        "outputId": "f7218500-648a-454e-b7a8-95d41a787f8e"
      },
      "execution_count": null,
      "outputs": [
        {
          "output_type": "stream",
          "name": "stdout",
          "text": [
            "Even\n"
          ]
        }
      ]
    },
    {
      "cell_type": "markdown",
      "source": [
        "##if-elif-else\n",
        "1) Write a program to check if a person is eligible to vote based on their age."
      ],
      "metadata": {
        "id": "kHh93VMR52zb"
      }
    },
    {
      "cell_type": "markdown",
      "source": [
        "##Algorithm\n",
        "Prompt the user to enter their age using the input() function, and convert the input to an integer using the int() function. Assign the resulting value to the variable age.\n",
        "Check if the value of age is greater than or equal to 18.\n",
        "If the value of age is greater than or equal to 18, print the string \"You are eligible to vote!\" using the print() function.\n",
        "If the value of age is less than 18, print the string \"You are not eligible to vote.\" using the print() function.\n",
        "The program terminates."
      ],
      "metadata": {
        "id": "aiTFKJFEaOS3"
      }
    },
    {
      "cell_type": "code",
      "source": [
        "age = int(input(\"Enter your age: \"))\n",
        "if age >= 18:\n",
        "    print(\"You are eligible to vote!\")\n",
        "else:\n",
        "    print(\"You are not eligible to vote.\")"
      ],
      "metadata": {
        "colab": {
          "base_uri": "https://localhost:8080/"
        },
        "id": "RJpu14if59oc",
        "outputId": "203ffcb8-ded5-4b75-b831-223a64f015d6"
      },
      "execution_count": null,
      "outputs": [
        {
          "output_type": "stream",
          "name": "stdout",
          "text": [
            "Enter your age: 10\n",
            "You are not eligible to vote.\n"
          ]
        }
      ]
    },
    {
      "cell_type": "markdown",
      "source": [
        "2) Write a program to find the largest of three numbers using if-else statements."
      ],
      "metadata": {
        "id": "BpwsZcUH6PG3"
      }
    },
    {
      "cell_type": "markdown",
      "source": [
        "##Algorithm\n",
        "Assign the value 10 to the variable a.\n",
        "Assign the value 20 to the variable b.\n",
        "Assign the value 5 to the variable c.\n",
        "Check if the value of a is greater than or equal to both b and c using the and operator.\n",
        "If the condition in step 4 is true, assign the value of a to the variable largest.\n",
        "Otherwise, check if the value of b is greater than or equal to both a and c.\n",
        "If the condition in step 6 is true, assign the value of b to the variable largest.\n",
        "Otherwise, assign the value of c to the variable largest.\n",
        "Print the string \"Largest number is:\" followed by the value of largest using the print() function.\n",
        "The program terminates."
      ],
      "metadata": {
        "id": "SfHIiZFmaY4U"
      }
    },
    {
      "cell_type": "code",
      "source": [
        "a, b, c = 10, 20, 5\n",
        "\n",
        "if a >= b and a >= c:\n",
        "    largest = a\n",
        "elif b >= a and b >= c:\n",
        "    largest = b\n",
        "else:\n",
        "    largest = c\n",
        "\n",
        "print(\"Largest number is:\", largest)"
      ],
      "metadata": {
        "colab": {
          "base_uri": "https://localhost:8080/"
        },
        "id": "c4609r2p6TAT",
        "outputId": "c5ccb153-c84d-49bb-b3bd-bedd33b862a0"
      },
      "execution_count": null,
      "outputs": [
        {
          "output_type": "stream",
          "name": "stdout",
          "text": [
            "Largest number is: 20\n"
          ]
        }
      ]
    },
    {
      "cell_type": "markdown",
      "source": [
        "3) Write a program to check if a given year is a leap year or not."
      ],
      "metadata": {
        "id": "s0EZX3ewFAor"
      }
    },
    {
      "cell_type": "markdown",
      "source": [
        "##Algorithm\n",
        "Assign the value 2024 to the variable year.\n",
        "Check if the value of year is divisible by 4 with no remainder, and if it is not divisible by 100 with no remainder using the and operator.\n",
        "Alternatively, check if the value of year is divisible by 400 with no remainder using the or operator.\n",
        "If the condition in step 2 or step 3 is true, print the string \"year is a leap year\" using the print() function, where year is the value of the variable year.\n",
        "Otherwise, print the string \"year is not a leap year\" using the print() function, where year is the value of the variable year.\n",
        "The program terminates."
      ],
      "metadata": {
        "id": "j5PIlb0Wb-08"
      }
    },
    {
      "cell_type": "code",
      "source": [
        "year = 2024\n",
        "\n",
        "if (year % 4 == 0 and year % 100 != 0) or year % 400 == 0:\n",
        "    print(f\"{year} is a leap year\")\n",
        "else:\n",
        "    print(f\"{year} is not a leap year\")"
      ],
      "metadata": {
        "colab": {
          "base_uri": "https://localhost:8080/"
        },
        "id": "xcX9CcwNFE9O",
        "outputId": "173ce7cc-8c92-409c-bf97-333e1dc0c06d"
      },
      "execution_count": null,
      "outputs": [
        {
          "output_type": "stream",
          "name": "stdout",
          "text": [
            "2024 is a leap year\n"
          ]
        }
      ]
    },
    {
      "cell_type": "markdown",
      "source": [
        "## while loop\n",
        "1)Write a program to print all the numbers between 1 to 100 that are divisible by 7."
      ],
      "metadata": {
        "id": "4w-Yi1_iFoKx"
      }
    },
    {
      "cell_type": "markdown",
      "source": [
        "##Algorithm\n",
        "Assign the value 1 to the variable i.\n",
        "While the value of i is less than or equal to 100, do the following:\n",
        "Check if the value of i is divisible by 7 with no remainder using the modulus operator %.\n",
        "If the condition in step 3 is true, print the value of i using the print() function.\n",
        "Increment the value of i by 1 using the += operator.\n",
        "Repeat steps 3 to 5 until the condition in step 2 is no longer true.\n",
        "The program terminates."
      ],
      "metadata": {
        "id": "GMaSRzjlfsdA"
      }
    },
    {
      "cell_type": "code",
      "source": [
        "i = 1\n",
        "while i <= 100:\n",
        "    if i % 7 == 0:\n",
        "        print(i)\n",
        "    i += 1"
      ],
      "metadata": {
        "colab": {
          "base_uri": "https://localhost:8080/"
        },
        "id": "TswGUEfSFSjI",
        "outputId": "2205ce12-1559-4fdc-e086-ebeebb8818cb"
      },
      "execution_count": null,
      "outputs": [
        {
          "output_type": "stream",
          "name": "stdout",
          "text": [
            "7\n",
            "14\n",
            "21\n",
            "28\n",
            "35\n",
            "42\n",
            "49\n",
            "56\n",
            "63\n",
            "70\n",
            "77\n",
            "84\n",
            "91\n",
            "98\n"
          ]
        }
      ]
    },
    {
      "cell_type": "markdown",
      "source": [
        "2) Write a program to find the factorial of a given number using a while loop."
      ],
      "metadata": {
        "id": "iPW2pcB9Fe9u"
      }
    },
    {
      "cell_type": "markdown",
      "source": [
        "##Algorithm\n",
        "Assign the value 5 to the variable num.\n",
        "Assign the value 1 to the variable fact.\n",
        "Assign the value 1 to the variable i.\n",
        "While the value of i is less than or equal to num, do the following:\n",
        "Multiply the value of fact by the value of i, and assign the result to fact.\n",
        "Increment the value of i by 1 using the += operator.\n",
        "Repeat steps 5 to 6 until the condition in step 4 is no longer true.\n",
        "Print the string \"Factorial of num is:\" followed by the value of fact using the print() function, where num is the value of the variable num.\n",
        "The program terminates."
      ],
      "metadata": {
        "id": "lF8ItOJwf3Hg"
      }
    },
    {
      "cell_type": "code",
      "source": [
        "num = 5\n",
        "fact = 1\n",
        "i = 1\n",
        "\n",
        "while i <= num:\n",
        "    fact *= i\n",
        "    i += 1\n",
        "\n",
        "print(f\"Factorial of {num} is:\", fact)"
      ],
      "metadata": {
        "colab": {
          "base_uri": "https://localhost:8080/"
        },
        "id": "MNuORp2qFipT",
        "outputId": "9b2c51a9-7518-4876-8ba1-c253fdf778c4"
      },
      "execution_count": null,
      "outputs": [
        {
          "output_type": "stream",
          "name": "stdout",
          "text": [
            "Factorial of 5 is: 120\n"
          ]
        }
      ]
    },
    {
      "cell_type": "markdown",
      "source": [
        "3) Write a program to find the sum of digits of a given number using a while loop."
      ],
      "metadata": {
        "id": "AXqllKBpFvnb"
      }
    },
    {
      "cell_type": "markdown",
      "source": [
        "##Algorithm\n",
        "Assign the value 12345 to the variable num.\n",
        "Assign the value 0 to the variable sum.\n",
        "While the value of num is greater than 0, do the following:\n",
        "Extract the last digit of num by computing the remainder when num is divided by 10 using the modulus operator %, and assign the result to the variable digit.\n",
        "Add the value of digit to the value of sum, and assign the result to sum.\n",
        "Divide the value of num by 10 using integer division //, and assign the result to num.\n",
        "Repeat steps 4 to 6 until the value of num is 0.\n",
        "Print the string \"Sum of digits is:\" followed by the value of sum using the print() function.\n",
        "The program terminates."
      ],
      "metadata": {
        "id": "Y7aPF_GIgKzh"
      }
    },
    {
      "cell_type": "code",
      "source": [
        "num = 12345\n",
        "sum = 0\n",
        "\n",
        "while num > 0:\n",
        "    digit = num % 10\n",
        "    sum += digit\n",
        "    num //= 10\n",
        "\n",
        "print(\"Sum of digits is:\", sum)"
      ],
      "metadata": {
        "colab": {
          "base_uri": "https://localhost:8080/"
        },
        "id": "CJJ_5BLNFzjC",
        "outputId": "4ad84325-dd28-4d25-d1e5-de470f1e23f0"
      },
      "execution_count": null,
      "outputs": [
        {
          "output_type": "stream",
          "name": "stdout",
          "text": [
            "Sum of digits is: 15\n"
          ]
        }
      ]
    },
    {
      "cell_type": "markdown",
      "source": [
        "##for loop\n",
        "1) Write a program to print all the prime numbers between 1 to 50 using a for loop."
      ],
      "metadata": {
        "id": "ziI-FSZqF8Or"
      }
    },
    {
      "cell_type": "markdown",
      "source": [
        "##Algorithm\n",
        "For each integer num in the range 2 to 49, do the following:\n",
        "For each integer i in the range 2 to num - 1, do the following:\n",
        "If the remainder when num is divided by i is 0 (i.e., num is divisible by i), exit the inner loop using the break statement.\n",
        "If the inner loop completes without finding a divisor of num (i.e., num is prime), execute the code block inside the else clause of the inner loop, which consists of printing the value of num.\n",
        "Repeat steps 2 to 4 until all integers in the range 2 to 49 have been processed.\n",
        "The program terminates."
      ],
      "metadata": {
        "id": "osoWge3HgdAY"
      }
    },
    {
      "cell_type": "code",
      "source": [
        "for num in range(2, 50):\n",
        "    for i in range(2, num):\n",
        "        if num % i == 0:\n",
        "            break\n",
        "    else:\n",
        "        print(num)"
      ],
      "metadata": {
        "colab": {
          "base_uri": "https://localhost:8080/"
        },
        "id": "CJ9I1DBFGBEJ",
        "outputId": "cc7a708e-0981-411c-b808-27d4c2bf7263"
      },
      "execution_count": null,
      "outputs": [
        {
          "output_type": "stream",
          "name": "stdout",
          "text": [
            "2\n",
            "3\n",
            "5\n",
            "7\n",
            "11\n",
            "13\n",
            "17\n",
            "19\n",
            "23\n",
            "29\n",
            "31\n",
            "37\n",
            "41\n",
            "43\n",
            "47\n"
          ]
        }
      ]
    },
    {
      "cell_type": "markdown",
      "source": [
        "2) Write a program to find the sum of all even numbers between 1 to 100 using a for loop."
      ],
      "metadata": {
        "id": "F5_e6Jm3GEKP"
      }
    },
    {
      "cell_type": "markdown",
      "source": [
        "##Algorithm\n",
        "Assign the value 0 to the variable sum.\n",
        "For each even integer i in the range 2 to 100 (inclusive) with a step of 2, do the following:\n",
        "Add the value of i to the value of sum, and assign the result to sum.\n",
        "Repeat step 2 until all even integers in the range 2 to 100 have been processed.\n",
        "Print the string \"Sum of even numbers is:\" followed by the value of sum using the print() function.\n",
        "The program terminates."
      ],
      "metadata": {
        "id": "jUorpRDLgx5x"
      }
    },
    {
      "cell_type": "code",
      "source": [
        "sum = 0\n",
        "for i in range(2, 101, 2):\n",
        "    sum += i\n",
        "\n",
        "print(\"Sum of even numbers is:\", sum)"
      ],
      "metadata": {
        "colab": {
          "base_uri": "https://localhost:8080/"
        },
        "id": "vgtV9_lCGG3J",
        "outputId": "947cd780-8bc1-4e68-caca-be03af98fdbf"
      },
      "execution_count": null,
      "outputs": [
        {
          "output_type": "stream",
          "name": "stdout",
          "text": [
            "Sum of even numbers is: 2550\n"
          ]
        }
      ]
    },
    {
      "cell_type": "markdown",
      "source": [
        "3) Write a program to print the multiplication table of a given number using a for loop."
      ],
      "metadata": {
        "id": "JYcV7K44GKPo"
      }
    },
    {
      "cell_type": "markdown",
      "source": [
        "##Algorithm\n",
        "Prompt the user to enter a number, and store the integer value entered by the user in the variable num.\n",
        "For each integer i in the range 1 to 10, do the following:\n",
        "Calculate the product of num and i, and store the result in a new variable.\n",
        "Use the print() function to display the equation num x i = result, where num, i, and result are replaced with their respective values.\n",
        "Repeat steps 2 to 4 until all integers in the range 1 to 10 have been processed.\n",
        "The program terminates."
      ],
      "metadata": {
        "id": "8fUDg5INg9wg"
      }
    },
    {
      "cell_type": "code",
      "source": [
        "num = int(input(\"Enter a number: \"))\n",
        "\n",
        "for i in range(1, 11):\n",
        "    print(f\"{num} x {i} = {num*i}\")\n"
      ],
      "metadata": {
        "colab": {
          "base_uri": "https://localhost:8080/"
        },
        "id": "GHxnJepMGNq0",
        "outputId": "7e9c3d48-c95e-4390-b253-478dcf661fad"
      },
      "execution_count": null,
      "outputs": [
        {
          "output_type": "stream",
          "name": "stdout",
          "text": [
            "Enter a number: 10\n",
            "10 x 1 = 10\n",
            "10 x 2 = 20\n",
            "10 x 3 = 30\n",
            "10 x 4 = 40\n",
            "10 x 5 = 50\n",
            "10 x 6 = 60\n",
            "10 x 7 = 70\n",
            "10 x 8 = 80\n",
            "10 x 9 = 90\n",
            "10 x 10 = 100\n"
          ]
        }
      ]
    },
    {
      "cell_type": "markdown",
      "source": [
        "## Lambda\n",
        "1) Write a lambda function that takes a string as input and returns the string in uppercase."
      ],
      "metadata": {
        "id": "QlgmMMb_zu1c"
      }
    },
    {
      "cell_type": "markdown",
      "source": [
        "##Algorithm\n",
        "Define a lambda function called string_upper that takes a string argument s.\n",
        "In the function body, call the upper() method on the string s to convert it to uppercase, and return the result.\n",
        "Call the print() function with the result of calling the string_upper function with the string argument \"hello world\".\n",
        "The program terminates."
      ],
      "metadata": {
        "id": "O0MurqRmhMsP"
      }
    },
    {
      "cell_type": "code",
      "source": [
        "string_upper = lambda s: s.upper()\n",
        "\n",
        "# Example usage\n",
        "print(string_upper(\"hello world\")) \n"
      ],
      "metadata": {
        "colab": {
          "base_uri": "https://localhost:8080/"
        },
        "id": "ATNMulj_01vH",
        "outputId": "8545fbf6-1038-4432-aca3-25a1ae35def2"
      },
      "execution_count": null,
      "outputs": [
        {
          "output_type": "stream",
          "name": "stdout",
          "text": [
            "HELLO WORLD\n"
          ]
        }
      ]
    },
    {
      "cell_type": "markdown",
      "source": [
        "2) Write a lambda function that takes a list of integers as input and returns the sum of all even numbers in the list."
      ],
      "metadata": {
        "id": "fmF1E2G104tc"
      }
    },
    {
      "cell_type": "markdown",
      "source": [
        "##Algorithm\n",
        "Define a lambda function called sum_even that takes a list argument lst.\n",
        "In the function body, call the filter() function with a lambda function that returns True if the input is even, and the list lst as arguments. The filter() function will return an iterator that contains only the even elements of the list.\n",
        "Call the sum() function with the iterator returned by the filter() function as an argument. The sum() function will return the sum of all the even elements in the list.\n",
        "Return the result from the sum() function.\n",
        "Create a list of integers called numbers.\n",
        "Call the sum_even function with the numbers list as an argument.\n",
        "Call the print() function with the result of calling the sum_even function as an argument.\n",
        "The program terminates."
      ],
      "metadata": {
        "id": "j2F3y2dnlNs_"
      }
    },
    {
      "cell_type": "code",
      "source": [
        "sum_even = lambda lst: sum(filter(lambda x: x % 2 == 0, lst))\n",
        "\n",
        "# Example usage\n",
        "numbers = [1, 2, 3, 4, 5, 6]\n",
        "print(sum_even(numbers)) \n"
      ],
      "metadata": {
        "colab": {
          "base_uri": "https://localhost:8080/"
        },
        "id": "2Ps7dRqi07Py",
        "outputId": "20b58ab0-f9a9-477a-eb81-8d6f78d6030f"
      },
      "execution_count": null,
      "outputs": [
        {
          "output_type": "stream",
          "name": "stdout",
          "text": [
            "12\n"
          ]
        }
      ]
    },
    {
      "cell_type": "markdown",
      "source": [
        "3) Write a lambda function that takes a list of strings as input and returns a new list containing only the strings that start with a vowel."
      ],
      "metadata": {
        "id": "_2xGMMqS092T"
      }
    },
    {
      "cell_type": "markdown",
      "source": [
        "##Algorithm\n",
        "Define a lambda function called vowel_strings that takes a list argument lst.\n",
        "In the function body, call the filter() function with a lambda function that returns True if the first character of the input string is a vowel (i.e., 'a', 'e', 'i', 'o', or 'u', in either upper or lower case), and the list lst as arguments. The filter() function will return an iterator that contains only the strings with vowels as their first character.\n",
        "Convert the iterator returned by the filter() function to a list using the list() function.\n",
        "Return the resulting list of vowel strings.\n",
        "Create a list of strings called words.\n",
        "Call the vowel_strings function with the words list as an argument.\n",
        "Call the print() function with the result of calling the vowel_strings function as an argument.\n",
        "The program terminates."
      ],
      "metadata": {
        "id": "hHL1oyVPlVHl"
      }
    },
    {
      "cell_type": "code",
      "source": [
        "vowel_strings = lambda lst: list(filter(lambda s: s[0] in \"aeiouAEIOU\", lst))\n",
        "\n",
        "# Example usage\n",
        "words = [\"apple\", \"banana\", \"orange\", \"pear\", \"grape\"]\n",
        "print(vowel_strings(words)) # Output: [\"apple\", \"orange\"]\n"
      ],
      "metadata": {
        "id": "XePeqrRQ1CcC",
        "outputId": "a4c15513-9c2e-4316-d382-4d0ff112d019",
        "colab": {
          "base_uri": "https://localhost:8080/"
        }
      },
      "execution_count": null,
      "outputs": [
        {
          "output_type": "stream",
          "name": "stdout",
          "text": [
            "['apple', 'orange']\n"
          ]
        }
      ]
    },
    {
      "cell_type": "markdown",
      "source": [
        "4) Write a Python program to multiply corresponding elements of two lists of integers [1, 2, 3] and [4, 5, 6] and store the results in a new list."
      ],
      "metadata": {
        "id": "sFWCD5RK4eN8"
      }
    },
    {
      "cell_type": "markdown",
      "source": [
        "##Algorithm\n",
        "Define two lists list1 and list2.\n",
        "Use the map function with a lambda function that takes two arguments and returns their product.\n",
        "The lambda function takes elements from both lists as arguments, multiplies them, and returns the result.\n",
        "The map function returns an iterator, so convert the result to a list.\n",
        "Print the result."
      ],
      "metadata": {
        "id": "E-hYD2h0l4dw"
      }
    },
    {
      "cell_type": "code",
      "source": [
        "list1 = [1, 2, 3]\n",
        "list2 = [4, 5, 6]\n",
        "product = map(lambda x, y: x * y, list1, list2)\n",
        "result = list(product)\n",
        "print(result)\n"
      ],
      "metadata": {
        "colab": {
          "base_uri": "https://localhost:8080/"
        },
        "id": "dL-uopp94frs",
        "outputId": "8fd88f2f-fed1-46df-b7f7-e2badfde81ca"
      },
      "execution_count": null,
      "outputs": [
        {
          "output_type": "stream",
          "name": "stdout",
          "text": [
            "[4, 10, 18]\n"
          ]
        }
      ]
    },
    {
      "cell_type": "markdown",
      "source": [
        "##Exception handling\n",
        "1) Write a program that asks the user to input two numbers and calculates the division of the two numbers. Handle the ZeroDivisionError exception if the second number is 0."
      ],
      "metadata": {
        "id": "sZv_0a-S5PhZ"
      }
    },
    {
      "cell_type": "markdown",
      "source": [
        "##Algorithm\n",
        "Use a try block to attempt to execute the code inside it.\n",
        "Prompt the user to enter two numbers and convert the inputs to integers using the int() function.\n",
        "Divide num1 by num2 and store the result in the result variable.\n",
        "Print the result of the division.\n",
        "If the division results in a ZeroDivisionError, execute the code inside the except block and print a message saying that division by zero is not possible."
      ],
      "metadata": {
        "id": "LJVkIb4OmIIP"
      }
    },
    {
      "cell_type": "code",
      "source": [
        "try:\n",
        "    num1 = int(input(\"Enter the first number: \"))\n",
        "    num2 = int(input(\"Enter the second number: \"))\n",
        "    result = num1 / num2\n",
        "    print(f\"The result of {num1} divided by {num2} is {result}\")\n",
        "except ZeroDivisionError:\n",
        "    print(\"Cannot divide by zero.\")\n"
      ],
      "metadata": {
        "colab": {
          "base_uri": "https://localhost:8080/"
        },
        "id": "P2MNXcMz5UKk",
        "outputId": "ad0e453f-eddf-41f1-d85d-6a322cdf52fa"
      },
      "execution_count": null,
      "outputs": [
        {
          "output_type": "stream",
          "name": "stdout",
          "text": [
            "Enter the first number: 0\n",
            "Enter the second number: 1\n",
            "The result of 0 divided by 1 is 0.0\n"
          ]
        }
      ]
    },
    {
      "cell_type": "markdown",
      "source": [
        "2) Write a program that reads a file and prints its contents to the console. Handle the FileNotFoundError exception if the file does not exist."
      ],
      "metadata": {
        "id": "l6TypoAN5ekA"
      }
    },
    {
      "cell_type": "markdown",
      "source": [
        "##Algorithm\n",
        "Use a try block to attempt to execute the code inside it.\n",
        "Open a file named \"example.txt\" in read mode using the open() function and the with statement to automatically close the file after use.\n",
        "Read the contents of the file using the read() method and store them in the contents variable.\n",
        "Print the contents of the file.\n",
        "If the file is not found or does not exist, execute the code inside the except block and print a message saying that the file does not exist."
      ],
      "metadata": {
        "id": "WRh1TDc8msKP"
      }
    },
    {
      "cell_type": "code",
      "source": [
        "try:\n",
        "    with open(\"example.txt\", \"r\") as file:\n",
        "        contents = file.read()\n",
        "        print(contents)\n",
        "except FileNotFoundError:\n",
        "    print(\"The file does not exist.\")\n"
      ],
      "metadata": {
        "colab": {
          "base_uri": "https://localhost:8080/"
        },
        "id": "CIwfvIWf641C",
        "outputId": "659b3ca2-5ef9-4759-c107-d74bfc9aa210"
      },
      "execution_count": null,
      "outputs": [
        {
          "output_type": "stream",
          "name": "stdout",
          "text": [
            "The file does not exist.\n"
          ]
        }
      ]
    },
    {
      "cell_type": "markdown",
      "source": [
        "3) Write a program that asks the user to input a number and prints the square of the number. Handle the ValueError exception if the input is not a valid number."
      ],
      "metadata": {
        "id": "vFW5tWQx69Ic"
      }
    },
    {
      "cell_type": "markdown",
      "source": [
        "##Algorithm\n",
        "Start the try block.\n",
        "Ask the user to input a number using the 'input' function and convert it to an integer using the 'int' function. Assign it to the variable 'num'.\n",
        "Calculate the square of the number using the exponentiation operator '**' and assign it to the variable 'square'.\n",
        "Print the message with the square value using the 'print' function and formatted string syntax.\n",
        "If the user input is not a valid integer, a ValueError will be raised. In that case, the control will jump to the except block.\n",
        "In the except block, print the error message \"Invalid input. Please enter a valid number.\" using the 'print' function.\n",
        "End of the try-except block."
      ],
      "metadata": {
        "id": "BkrgdSofnmfo"
      }
    },
    {
      "cell_type": "code",
      "source": [
        "try:\n",
        "    num = int(input(\"Enter a number: \"))\n",
        "    square = num ** 2\n",
        "    print(f\"The square of {num} is {square}\")\n",
        "except ValueError:\n",
        "    print(\"Invalid input. Please enter a valid number.\")\n"
      ],
      "metadata": {
        "colab": {
          "base_uri": "https://localhost:8080/"
        },
        "id": "w4kqErli7APW",
        "outputId": "a239c35d-edbc-46b5-c1c2-d37a9b9f3f2d"
      },
      "execution_count": null,
      "outputs": [
        {
          "output_type": "stream",
          "name": "stdout",
          "text": [
            "Enter a number: 8\n",
            "The square of 8 is 64\n"
          ]
        }
      ]
    },
    {
      "cell_type": "markdown",
      "source": [
        "##Regular expression\n",
        "1) Write a program that takes a string as input and checks if it contains any digits."
      ],
      "metadata": {
        "id": "fcBI93ds7hhm"
      }
    },
    {
      "cell_type": "markdown",
      "source": [
        "##Algorithm\n",
        "Import the re module.\n",
        "Define the contains_digit function that takes a string as input.\n",
        "Create a regular expression pattern \\d that matches any digit.\n",
        "Use the search method of the re module to search for the pattern in the string.\n",
        "If a match is found, return True, otherwise return False.\n",
        "Test the function using some example inputs."
      ],
      "metadata": {
        "id": "LOo9uU4goPXL"
      }
    },
    {
      "cell_type": "code",
      "source": [
        "import re\n",
        "\n",
        "def contains_digit(s):\n",
        "    pattern = r\"\\d\"\n",
        "    return bool(re.search(pattern, s))\n",
        "\n",
        "# Example usage\n",
        "print(contains_digit(\"hello world\")) \n",
        "print(contains_digit(\"hello123\")) \n"
      ],
      "metadata": {
        "colab": {
          "base_uri": "https://localhost:8080/"
        },
        "id": "y8bwX-JI7mzv",
        "outputId": "83c5f70c-0318-455c-faba-d5a64e618baf"
      },
      "execution_count": null,
      "outputs": [
        {
          "output_type": "stream",
          "name": "stdout",
          "text": [
            "False\n",
            "True\n"
          ]
        }
      ]
    },
    {
      "cell_type": "markdown",
      "source": [
        "2) Write a program that takes a list of strings as input and returns a new list containing only the strings that contain the word \"cat\"."
      ],
      "metadata": {
        "id": "6quY7q9z7qG2"
      }
    },
    {
      "cell_type": "markdown",
      "source": [
        "##Algorithm\n",
        "Import the re module.\n",
        "Define a function contains_cat that takes a list of strings as input.\n",
        "Inside the function, define a regular expression pattern that matches the string \"cat\".\n",
        "Use the filter function to iterate over the input list, returning only those elements that match the regular expression pattern.\n",
        "Return the filtered list.\n",
        "Test the function with some example inputs to ensure it is working correctly."
      ],
      "metadata": {
        "id": "XJfUdWN5oXfV"
      }
    },
    {
      "cell_type": "code",
      "source": [
        "import re\n",
        "\n",
        "def contains_cat(lst):\n",
        "    pattern = r\"cat\"\n",
        "    return list(filter(lambda s: re.search(pattern, s), lst))\n",
        "\n",
        "# Example usage\n",
        "words = [\"cat\", \"dog\", \"catfish\", \"cow\"]\n",
        "print(contains_cat(words)) \n"
      ],
      "metadata": {
        "colab": {
          "base_uri": "https://localhost:8080/"
        },
        "id": "aNlbjgVd7tRK",
        "outputId": "3dcd3099-e83a-4cf2-af83-4b635f8455e1"
      },
      "execution_count": null,
      "outputs": [
        {
          "output_type": "stream",
          "name": "stdout",
          "text": [
            "['cat', 'catfish']\n"
          ]
        }
      ]
    },
    {
      "cell_type": "markdown",
      "source": [
        "3) Write a program that takes a string as input and replaces all occurrences of the word \"apple\" with the word \"orange\"."
      ],
      "metadata": {
        "id": "X8bdOIJd7v_7"
      }
    },
    {
      "cell_type": "markdown",
      "source": [
        "##Algorithm\n",
        "Define the function replace_apple that takes a string s as input.\n",
        "Set the pattern to be replaced as r\"apple\" and the replacement as \"orange\".\n",
        "Use the re.sub() function to replace all occurrences of the pattern in the input string with the replacement string.\n",
        "Return the modified string."
      ],
      "metadata": {
        "id": "b8TtOT3To6m8"
      }
    },
    {
      "cell_type": "code",
      "source": [
        "import re\n",
        "\n",
        "def replace_apple(s):\n",
        "    pattern = r\"apple\"\n",
        "    replacement = \"orange\"\n",
        "    return re.sub(pattern, replacement, s)\n",
        "\n",
        "# Example usage\n",
        "text = \"I have an apple, he has an apple, and she has an apple too.\"\n",
        "new_text = replace_apple(text)\n",
        "print(new_text) \n"
      ],
      "metadata": {
        "colab": {
          "base_uri": "https://localhost:8080/"
        },
        "id": "rijQ_sMC7zm5",
        "outputId": "a90efd9b-426a-4960-c867-48b619e75c5c"
      },
      "execution_count": null,
      "outputs": [
        {
          "output_type": "stream",
          "name": "stdout",
          "text": [
            "I have an orange, he has an orange, and she has an orange too.\n"
          ]
        }
      ]
    },
    {
      "cell_type": "markdown",
      "source": [
        "##List\n",
        "1) Sorting a list of dictionaries by a specific key"
      ],
      "metadata": {
        "id": "amLMfUeN7-7A"
      }
    },
    {
      "cell_type": "markdown",
      "source": [
        "##Algorithm\n",
        "Define a list of dictionaries called people containing information about several individuals including their name, age and height.\n",
        "Sort the people list based on the value of the age key in each dictionary using the sorted function.\n",
        "Pass in the people list as the first argument to the sorted function.\n",
        "Use a lambda function as the second argument to the sorted function to specify the sorting key. The lambda function should take a dictionary as input (x), and return the value of the age key in that dictionary (x[\"age\"]).\n",
        "Assign the sorted list to a new variable called sorted_people.\n",
        "Print out the sorted list using the print function."
      ],
      "metadata": {
        "id": "J3131boMpTB_"
      }
    },
    {
      "cell_type": "code",
      "source": [
        "people = [\n",
        "    {\"name\": \"Alice\", \"age\": 25, \"height\": 170},\n",
        "    {\"name\": \"Bob\", \"age\": 30, \"height\": 175},\n",
        "    {\"name\": \"Charlie\", \"age\": 20, \"height\": 165},\n",
        "]\n",
        "\n",
        "sorted_people = sorted(people, key=lambda x: x[\"age\"])\n",
        "print(sorted_people)\n"
      ],
      "metadata": {
        "colab": {
          "base_uri": "https://localhost:8080/"
        },
        "id": "njPH5fDi875Y",
        "outputId": "a8aca627-572d-435c-8b89-eaa8aeabb27f"
      },
      "execution_count": null,
      "outputs": [
        {
          "output_type": "stream",
          "name": "stdout",
          "text": [
            "[{'name': 'Charlie', 'age': 20, 'height': 165}, {'name': 'Alice', 'age': 25, 'height': 170}, {'name': 'Bob', 'age': 30, 'height': 175}]\n"
          ]
        }
      ]
    },
    {
      "cell_type": "markdown",
      "source": [
        "2) Removing duplicates from a list:"
      ],
      "metadata": {
        "id": "hC-eqMMX89e2"
      }
    },
    {
      "cell_type": "markdown",
      "source": [
        "##Algorithm\n",
        "Define a list of numbers.\n",
        "Convert the list to a set using the set() function to remove duplicates.\n",
        "Convert the set back to a list using the list() function.\n",
        "Assign the result to a variable to store the unique numbers.\n",
        "Print the unique numbers."
      ],
      "metadata": {
        "id": "feQGk_PVphOn"
      }
    },
    {
      "cell_type": "code",
      "source": [
        "numbers = [1, 2, 3, 2, 4, 5, 3, 6]\n",
        "unique_numbers = list(set(numbers))\n",
        "print(unique_numbers)\n",
        "\n"
      ],
      "metadata": {
        "colab": {
          "base_uri": "https://localhost:8080/"
        },
        "id": "FPApZqqL9AUP",
        "outputId": "c1c2a7b5-5173-40e6-f015-00c62160a559"
      },
      "execution_count": null,
      "outputs": [
        {
          "output_type": "stream",
          "name": "stdout",
          "text": [
            "[1, 2, 3, 4, 5, 6]\n"
          ]
        }
      ]
    },
    {
      "cell_type": "markdown",
      "source": [
        "3) Flattening a list of nested lists:"
      ],
      "metadata": {
        "id": "87AuXFPN9GMl"
      }
    },
    {
      "cell_type": "markdown",
      "source": [
        "##Algorithm\n",
        "Create a nested list containing several sublists\n",
        "Create an empty list to store the flattened list\n",
        "Iterate over each sublist in the nested list\n",
        "Iterate over each element in the sublist\n",
        "Append the element to the flattened list\n",
        "Print the flattened list"
      ],
      "metadata": {
        "id": "k95x_yePpnQx"
      }
    },
    {
      "cell_type": "code",
      "source": [
        "nested_list = [[1, 2, 3], [4, 5], [6, 7, 8, 9]]\n",
        "flat_list = [element for sublist in nested_list for element in sublist]\n",
        "print(flat_list)\n",
        "\n"
      ],
      "metadata": {
        "colab": {
          "base_uri": "https://localhost:8080/"
        },
        "id": "j11_ApVS9Isx",
        "outputId": "3815b1a2-9439-4f14-ec18-fa6957e40f38"
      },
      "execution_count": null,
      "outputs": [
        {
          "output_type": "stream",
          "name": "stdout",
          "text": [
            "[1, 2, 3, 4, 5, 6, 7, 8, 9]\n"
          ]
        }
      ]
    },
    {
      "cell_type": "markdown",
      "source": [
        "##Dictionary\n",
        "1) Counting word frequencies in a string:"
      ],
      "metadata": {
        "id": "erroATFf9elv"
      }
    },
    {
      "cell_type": "markdown",
      "source": [
        "##Algorithm\n",
        "Initialize an empty dictionary called \"word_freq\".\n",
        "Split the given text into words using the split() function.\n",
        "For each word in the list of words:\n",
        "a. Check if the word is already in the \"word_freq\" dictionary.\n",
        "b. If it is, increment the count of the word by 1.\n",
        "c. If it is not, add the word to the \"word_freq\" dictionary with a count of 1.\n",
        "Print the \"word_freq\" dictionary."
      ],
      "metadata": {
        "id": "kobYqsv5p9Zf"
      }
    },
    {
      "cell_type": "code",
      "source": [
        "text = \"this is a sample text with several words and repeated words\"\n",
        "word_freq = {}\n",
        "\n",
        "for word in text.split():\n",
        "    if word in word_freq:\n",
        "        word_freq[word] += 1\n",
        "    else:\n",
        "        word_freq[word] = 1\n",
        "\n",
        "print(word_freq)\n",
        "\n"
      ],
      "metadata": {
        "colab": {
          "base_uri": "https://localhost:8080/"
        },
        "id": "RjyzEkIM9i9O",
        "outputId": "9dbc01f8-7804-4500-e94a-69f69e199fb9"
      },
      "execution_count": null,
      "outputs": [
        {
          "output_type": "stream",
          "name": "stdout",
          "text": [
            "{'this': 1, 'is': 1, 'a': 1, 'sample': 1, 'text': 1, 'with': 1, 'several': 1, 'words': 2, 'and': 1, 'repeated': 1}\n"
          ]
        }
      ]
    },
    {
      "cell_type": "markdown",
      "source": [
        "2) Converting a list of tuples into a dictionary:"
      ],
      "metadata": {
        "id": "KEl6o-hw9lsh"
      }
    },
    {
      "cell_type": "markdown",
      "source": [
        "##Algorithm\n",
        "Create a list of tuples representing key-value pairs.\n",
        "Create an empty dictionary.\n",
        "Loop through each tuple in the list of key-value pairs.\n",
        "For each tuple, assign the first element (key) as a key in the dictionary and assign the second element (value) as the corresponding value for that key.\n",
        "Print the resulting dictionary."
      ],
      "metadata": {
        "id": "l-kmulPUqJNd"
      }
    },
    {
      "cell_type": "code",
      "source": [
        "key_value_pairs = [(\"a\", 1), (\"b\", 2), (\"c\", 3)]\n",
        "dictionary = {key: value for key, value in key_value_pairs}\n",
        "print(dictionary)\n",
        "\n"
      ],
      "metadata": {
        "colab": {
          "base_uri": "https://localhost:8080/"
        },
        "id": "ADFGhQcJ9oH3",
        "outputId": "2428baa7-4080-4553-aaf9-644638cbccd9"
      },
      "execution_count": null,
      "outputs": [
        {
          "output_type": "stream",
          "name": "stdout",
          "text": [
            "{'a': 1, 'b': 2, 'c': 3}\n"
          ]
        }
      ]
    },
    {
      "cell_type": "markdown",
      "source": [
        "3) Merging two dictionaries:"
      ],
      "metadata": {
        "id": "PdsCYm9a9t7u"
      }
    },
    {
      "cell_type": "markdown",
      "source": [
        "##Algorithm\n",
        "Create two dictionaries, dict1 and dict2, with some key-value pairs.\n",
        "Use the update() method to update dict1 with the key-value pairs from dict2.\n",
        "Print the updated dict1 dictionary."
      ],
      "metadata": {
        "id": "aMLelmzKqUXd"
      }
    },
    {
      "cell_type": "code",
      "source": [
        "dict1 = {\"a\": 1, \"b\": 2}\n",
        "dict2 = {\"b\": 3, \"c\": 4}\n",
        "\n",
        "dict1.update(dict2)\n",
        "print(dict1)\n",
        "\n"
      ],
      "metadata": {
        "colab": {
          "base_uri": "https://localhost:8080/"
        },
        "id": "tHgAEiJP9w4_",
        "outputId": "567f208f-6b7b-4abc-dc17-5bfc0a0d691d"
      },
      "execution_count": null,
      "outputs": [
        {
          "output_type": "stream",
          "name": "stdout",
          "text": [
            "{'a': 1, 'b': 3, 'c': 4}\n"
          ]
        }
      ]
    },
    {
      "cell_type": "markdown",
      "source": [
        "## set\n",
        "1) Finding common elements in multiple sets:"
      ],
      "metadata": {
        "id": "CZrYkMmc91I6"
      }
    },
    {
      "cell_type": "markdown",
      "source": [
        "##Algorithm\n",
        "Initialize sets set1, set2, and set3 with the required elements.\n",
        "Compute the intersection of the three sets using the intersection() method and store the result in the variable common_elements.\n",
        "Print the value of common_elements."
      ],
      "metadata": {
        "id": "bKeg3ntSqd7-"
      }
    },
    {
      "cell_type": "code",
      "source": [
        "set1 = {1, 2, 3, 4}\n",
        "set2 = {3, 4, 5, 6}\n",
        "set3 = {4, 5, 6, 7}\n",
        "\n",
        "common_elements = set1.intersection(set2, set3)\n",
        "print(common_elements)\n",
        "\n"
      ],
      "metadata": {
        "colab": {
          "base_uri": "https://localhost:8080/"
        },
        "id": "e0utp8qO-CEl",
        "outputId": "59f231f6-d45e-43d8-82cb-c5d5f6e1b379"
      },
      "execution_count": null,
      "outputs": [
        {
          "output_type": "stream",
          "name": "stdout",
          "text": [
            "{4}\n"
          ]
        }
      ]
    },
    {
      "cell_type": "markdown",
      "source": [
        "2) Removing duplicates from a list:"
      ],
      "metadata": {
        "id": "MW17-Tgv-Fum"
      }
    },
    {
      "cell_type": "markdown",
      "source": [
        "##Algorithm\n",
        "Initialize a list list_with_duplicates containing some items with duplicates.\n",
        "Use the set function to convert list_with_duplicates to a set of unique items, and then convert this set back to a list using the list function.\n",
        "Assign the resulting list to unique_items.\n",
        "Print unique_items."
      ],
      "metadata": {
        "id": "W4zK9QMDqvP6"
      }
    },
    {
      "cell_type": "code",
      "source": [
        "list_with_duplicates = [1, 2, 3, 2, 4, 5, 3, 6]\n",
        "unique_items = list(set(list_with_duplicates))\n",
        "print(unique_items)\n",
        "\n"
      ],
      "metadata": {
        "colab": {
          "base_uri": "https://localhost:8080/"
        },
        "id": "hFLz0gdw-ISh",
        "outputId": "14686ed4-8311-43df-989d-3c7d472b710a"
      },
      "execution_count": null,
      "outputs": [
        {
          "output_type": "stream",
          "name": "stdout",
          "text": [
            "[1, 2, 3, 4, 5, 6]\n"
          ]
        }
      ]
    },
    {
      "cell_type": "markdown",
      "source": [
        "3) Symmetric difference between two sets:"
      ],
      "metadata": {
        "id": "hKdBUu_V-LKb"
      }
    },
    {
      "cell_type": "markdown",
      "source": [
        "##Algorithm\n",
        "Initialize two sets set1 and set2.\n",
        "Compute the symmetric difference of set1 and set2 using the symmetric_difference() method.\n",
        "Print the symmetric difference of set1 and set2."
      ],
      "metadata": {
        "id": "HL1_lXbGq1t5"
      }
    },
    {
      "cell_type": "code",
      "source": [
        "set1 = {1, 2, 3, 4}\n",
        "set2 = {3, 4, 5, 6}\n",
        "\n",
        "symmetric_difference = set1.symmetric_difference(set2)\n",
        "print(symmetric_difference)\n",
        "\n"
      ],
      "metadata": {
        "colab": {
          "base_uri": "https://localhost:8080/"
        },
        "id": "oN_A8AJg-OWU",
        "outputId": "15417ebb-01db-4534-bfaf-fb31df97a3c8"
      },
      "execution_count": null,
      "outputs": [
        {
          "output_type": "stream",
          "name": "stdout",
          "text": [
            "{1, 2, 5, 6}\n"
          ]
        }
      ]
    },
    {
      "cell_type": "markdown",
      "source": [
        "##Tuple\n",
        "1) Returning multiple values from a function:"
      ],
      "metadata": {
        "id": "_NAdAlz5-YUT"
      }
    },
    {
      "cell_type": "markdown",
      "source": [
        "##Algorithm\n",
        "Define a function called calculate_statistics that takes a list of numbers as input.\n",
        "Calculate the total sum of the numbers in the list using the sum() function.\n",
        "Calculate the number of items in the list using the len() function.\n",
        "Calculate the mean by dividing the total sum by the number of items.\n",
        "Calculate the variance by summing the squared differences of each number from the mean, and then dividing by the number of items.\n",
        "Calculate the standard deviation by taking the square root of the variance.\n",
        "Return the mean, variance, and standard deviation as a tuple.\n",
        "Create a list of numbers called values.\n",
        "Call the calculate_statistics() function with values as the argument and assign the results to the variables mean, variance, and std_dev.\n",
        "Print the values of mean, variance, and std_dev."
      ],
      "metadata": {
        "id": "0mIIALyDrKEt"
      }
    },
    {
      "cell_type": "code",
      "source": [
        "def calculate_statistics(numbers):\n",
        "    total = sum(numbers)\n",
        "    count = len(numbers)\n",
        "    mean = total / count\n",
        "    variance = sum((x - mean) ** 2 for x in numbers) / count\n",
        "    std_dev = variance ** 0.5\n",
        "    return mean, variance, std_dev\n",
        "\n",
        "values = [2, 4, 6, 8, 10]\n",
        "mean, variance, std_dev = calculate_statistics(values)\n",
        "\n",
        "print(mean, variance, std_dev)\n",
        "\n"
      ],
      "metadata": {
        "colab": {
          "base_uri": "https://localhost:8080/"
        },
        "id": "C2AT6ngZ-czV",
        "outputId": "05e2717a-e8a5-4ae6-a31f-25d07841a8bd"
      },
      "execution_count": null,
      "outputs": [
        {
          "output_type": "stream",
          "name": "stdout",
          "text": [
            "6.0 8.0 2.8284271247461903\n"
          ]
        }
      ]
    },
    {
      "cell_type": "markdown",
      "source": [
        "2) Using tuples as keys in a dictionary:"
      ],
      "metadata": {
        "id": "35ufU34D-ruO"
      }
    },
    {
      "cell_type": "markdown",
      "source": [
        "##Algorithm\n",
        "Define a dictionary students.\n",
        "Assign keys and values to students using the format ('First Name', 'Last Name'): grade.\n",
        "Print the value associated with the key ('John', 'Smith') using print(students[('John', 'Smith')])."
      ],
      "metadata": {
        "id": "jlnWrRsbrZmY"
      }
    },
    {
      "cell_type": "code",
      "source": [
        "students = {\n",
        "    ('John', 'Smith'): 95,\n",
        "    ('Jane', 'Doe'): 85,\n",
        "    ('Alice', 'Jones'): 90\n",
        "}\n",
        "\n",
        "print(students[('John', 'Smith')])\n",
        "\n"
      ],
      "metadata": {
        "colab": {
          "base_uri": "https://localhost:8080/"
        },
        "id": "3ADAMfyd-uYw",
        "outputId": "edf17172-d067-4454-e0de-90a3cd36cc18"
      },
      "execution_count": null,
      "outputs": [
        {
          "output_type": "stream",
          "name": "stdout",
          "text": [
            "95\n"
          ]
        }
      ]
    },
    {
      "cell_type": "markdown",
      "source": [
        "3) Using tuples for string formatting:"
      ],
      "metadata": {
        "id": "_FSO6e1g-xh3"
      }
    },
    {
      "cell_type": "markdown",
      "source": [
        "##Algorithm\n",
        "Define a tuple with three elements representing a person's name and age\n",
        "Use the print() function to display a formatted string that includes the person's name and age\n",
        "In the formatted string, use string formatting with the % operator to substitute the values of the tuple elements in the appropriate places in the string"
      ],
      "metadata": {
        "id": "HoQLLxRWrt8P"
      }
    },
    {
      "cell_type": "code",
      "source": [
        "person = ('Alice', 'Jones', 30)\n",
        "print('Name: %s %s, Age: %d' % person)\n",
        "\n"
      ],
      "metadata": {
        "colab": {
          "base_uri": "https://localhost:8080/"
        },
        "id": "ubSvl4tP-4ES",
        "outputId": "601245b6-0d58-4bc3-dffe-520074739098"
      },
      "execution_count": null,
      "outputs": [
        {
          "output_type": "stream",
          "name": "stdout",
          "text": [
            "Name: Alice Jones, Age: 30\n"
          ]
        }
      ]
    },
    {
      "cell_type": "markdown",
      "source": [
        "## Files\n",
        "1) Reading and writing CSV files"
      ],
      "metadata": {
        "id": "tRfGpk3l-79B"
      }
    },
    {
      "cell_type": "markdown",
      "source": [
        "##Algorithm\n",
        "Open a file using the open() function with the appropriate mode (e.g., 'r' for reading or 'w' for writing).\n",
        "Read or write data to the file using the appropriate methods or functions (e.g., read(), write(), csv.reader(), csv.writer()).\n",
        "Close the file using the close() method."
      ],
      "metadata": {
        "id": "6lJoe0C9x5nL"
      }
    },
    {
      "cell_type": "code",
      "source": [
        "import csv\n",
        "\n",
        "# Write data to a CSV file\n",
        "with open('data.csv', 'w', newline='') as file:\n",
        "    writer = csv.writer(file)\n",
        "    writer.writerow(['Name', 'Age', 'Gender'])\n",
        "    writer.writerow(['Alice', 25, 'Female'])\n",
        "    writer.writerow(['Bob', 30, 'Male'])\n",
        "    writer.writerow(['Charlie', 35, 'Male'])\n",
        "\n",
        "# Read data from a CSV file\n",
        "with open('data.csv', 'r') as file:\n",
        "    reader = csv.reader(file)\n",
        "    for row in reader:\n",
        "        print(row)\n"
      ],
      "metadata": {
        "colab": {
          "base_uri": "https://localhost:8080/"
        },
        "id": "QhNVYT-i_Vt1",
        "outputId": "9d926415-2bb8-473d-c03d-e4ddbe78d58e"
      },
      "execution_count": null,
      "outputs": [
        {
          "output_type": "stream",
          "name": "stdout",
          "text": [
            "['Name', 'Age', 'Gender']\n",
            "['Alice', '25', 'Female']\n",
            "['Bob', '30', 'Male']\n",
            "['Charlie', '35', 'Male']\n"
          ]
        }
      ]
    },
    {
      "cell_type": "markdown",
      "source": [
        "2) Reading and writing JSON files:"
      ],
      "metadata": {
        "id": "KwdB-Onx_kn1"
      }
    },
    {
      "cell_type": "markdown",
      "source": [
        "##Algorithm\n",
        "The json module is used to handle JSON data. In this example, a dictionary called data is created with some key-value pairs. The json.dump() method is used to write this data to a file called data.json. The json.load() method is then used to read the data from this file into a new dictionary called data. Finally, the values of name, age, and gender are printed from the data dictionary using dictionary indexing."
      ],
      "metadata": {
        "id": "6dZbXrVqyBIz"
      }
    },
    {
      "cell_type": "code",
      "source": [
        "import json\n",
        "\n",
        "# Write data to a JSON file\n",
        "data = {\n",
        "    'name': 'Alice',\n",
        "    'age': 25,\n",
        "    'gender': 'Female'\n",
        "}\n",
        "\n",
        "with open('data.json', 'w') as file:\n",
        "    json.dump(data, file)\n",
        "\n",
        "# Read data from a JSON file\n",
        "with open('data.json', 'r') as file:\n",
        "    data = json.load(file)\n",
        "    print(data['name'], data['age'], data['gender'])\n"
      ],
      "metadata": {
        "colab": {
          "base_uri": "https://localhost:8080/"
        },
        "id": "dSUlbXR9_nkI",
        "outputId": "926f5142-3197-439b-c536-fba60d51603a"
      },
      "execution_count": null,
      "outputs": [
        {
          "output_type": "stream",
          "name": "stdout",
          "text": [
            "Alice 25 Female\n"
          ]
        }
      ]
    },
    {
      "cell_type": "markdown",
      "source": [
        "3) Appending to an existing file:\n"
      ],
      "metadata": {
        "id": "aycehONN_qn9"
      }
    },
    {
      "cell_type": "markdown",
      "source": [
        "##Algorithm\n",
        "Open the file \"data.txt\" in append mode, using the \"open\" function with mode \"a\".\n",
        "Use the \"write\" method of the file object to write the string \"Fourth line\\n\" to the file.\n",
        "Close the file using the \"close\" method of the file object."
      ],
      "metadata": {
        "id": "2BuI-sYayowb"
      }
    },
    {
      "cell_type": "code",
      "source": [
        "# Append data to an existing file\n",
        "with open('data.txt', 'a') as file:\n",
        "    file.write('Fourth line\\n')\n"
      ],
      "metadata": {
        "id": "yA2tcBVK_tYM"
      },
      "execution_count": null,
      "outputs": []
    },
    {
      "cell_type": "markdown",
      "source": [
        "## Inheritance\n",
        "1) Write a program that demonstrates multilevel inheritance, where class A is the parent of class B, which is the parent of class C. Each class should have a method called \"display\" that prints out a message indicating which class it belongs to."
      ],
      "metadata": {
        "id": "urOXEt9SAVkO"
      }
    },
    {
      "cell_type": "markdown",
      "source": [
        "##Algorithm\n",
        "Define a class A with a method display that prints \"This is class A.\"\n",
        "Define a class B that inherits from class A and overrides the display method with a new message \"This is class B.\"\n",
        "Define a class C that inherits from class B and overrides the display method with a new message \"This is class C.\"\n",
        "Create objects objA, objB, and objC of classes A, B, and C, respectively.\n",
        "Call the display method on each object to see the output."
      ],
      "metadata": {
        "id": "t_jF1bAfy6qK"
      }
    },
    {
      "cell_type": "code",
      "source": [
        "class A:\n",
        "    def display(self):\n",
        "        print(\"This is class A.\")\n",
        "\n",
        "class B(A):\n",
        "    def display(self):\n",
        "        print(\"This is class B.\")\n",
        "\n",
        "class C(B):\n",
        "    def display(self):\n",
        "        print(\"This is class C.\")\n",
        "\n",
        "objA = A()\n",
        "objB = B()\n",
        "objC = C()\n",
        "\n",
        "objA.display() # This is class A.\n",
        "objB.display() # This is class B.\n",
        "objC.display() # This is class C.\n"
      ],
      "metadata": {
        "colab": {
          "base_uri": "https://localhost:8080/"
        },
        "id": "sHitH52fBK69",
        "outputId": "ac3e9569-b386-42f2-bdf5-6727e85b031a"
      },
      "execution_count": null,
      "outputs": [
        {
          "output_type": "stream",
          "name": "stdout",
          "text": [
            "This is class A.\n",
            "This is class B.\n",
            "This is class C.\n"
          ]
        }
      ]
    },
    {
      "cell_type": "markdown",
      "source": [
        "2) Write a program that uses inheritance to model different types of vehicles. There should be a base class called \"Vehicle\" with a method called \"drive\" that prints out a message indicating that the vehicle is being driven. There should also be two subclasses, \"Car\" and \"Motorcycle\", each with their own unique attributes and methods."
      ],
      "metadata": {
        "id": "aUNQ80FdBNdw"
      }
    },
    {
      "cell_type": "markdown",
      "source": [
        "##Algorithm\n",
        "Define a class called Vehicle with an __init__ method that takes make and model parameters and sets them as instance attributes. Also, define a drive method that prints a message indicating the vehicle is being driven.\n",
        "\n",
        "Define a subclass of Vehicle called Car. The __init__ method should take make, model, and num_doors parameters and use super() to call the parent class's __init__ method. Additionally, define a honk method that prints a \"Beep beep!\" message.\n",
        "\n",
        "Define another subclass of Vehicle called Motorcycle. The __init__ method should take make, model, and num_wheels parameters and use super() to call the parent class's __init__ method. Additionally, define a rev method that prints a \"Vroom vroom!\" message.\n",
        "\n",
        "Create an instance of Car and Motorcycle, passing appropriate arguments to the constructors.\n",
        "\n",
        "Call the drive method on the Car and Motorcycle instances to show that they have inherited this method from the Vehicle class.\n",
        "\n",
        "Call the honk method on the Car instance to show that it has its own method.\n",
        "\n",
        "Call the rev method on the Motorcycle instance to show that it has its own method.\n",
        "\n",
        "\n",
        "\n",
        "\n"
      ],
      "metadata": {
        "id": "BbievIiVzWh1"
      }
    },
    {
      "cell_type": "code",
      "source": [
        "class Vehicle:\n",
        "    def __init__(self, make, model):\n",
        "        self.make = make\n",
        "        self.model = model\n",
        "        \n",
        "    def drive(self):\n",
        "        print(f\"The {self.make} {self.model} is being driven.\")\n",
        "\n",
        "class Car(Vehicle):\n",
        "    def __init__(self, make, model, num_doors):\n",
        "        super().__init__(make, model)\n",
        "        self.num_doors = num_doors\n",
        "        \n",
        "    def honk(self):\n",
        "        print(\"Beep beep!\")\n",
        "        \n",
        "class Motorcycle(Vehicle):\n",
        "    def __init__(self, make, model, num_wheels):\n",
        "        super().__init__(make, model)\n",
        "        self.num_wheels = num_wheels\n",
        "        \n",
        "    def rev(self):\n",
        "        print(\"Vroom vroom!\")\n",
        "\n",
        "car = Car(\"Ford\", \"Mustang\", 2)\n",
        "motorcycle = Motorcycle(\"Harley Davidson\", \"Sportster\", 2)\n",
        "\n",
        "car.drive() # The Ford Mustang is being driven.\n",
        "car.honk() # Beep beep!\n",
        "motorcycle.drive() # The Harley Davidson Sportster is being driven.\n",
        "motorcycle.rev() # Vroom vroom!\n"
      ],
      "metadata": {
        "colab": {
          "base_uri": "https://localhost:8080/"
        },
        "id": "GDAfH8qdBWel",
        "outputId": "412108a7-6000-46f1-98b8-585b2fb18796"
      },
      "execution_count": null,
      "outputs": [
        {
          "output_type": "stream",
          "name": "stdout",
          "text": [
            "The Ford Mustang is being driven.\n",
            "Beep beep!\n",
            "The Harley Davidson Sportster is being driven.\n",
            "Vroom vroom!\n"
          ]
        }
      ]
    },
    {
      "cell_type": "markdown",
      "source": [
        "3) Write a program that demonstrates multiple inheritance, where class A is the parent of class B and class C, and class D inherits from both B and C. Each class should have a method called \"display\" that prints out a message indicating which class it belongs to."
      ],
      "metadata": {
        "id": "evSI8oONBOoo"
      }
    },
    {
      "cell_type": "markdown",
      "source": [
        "##Algorithm\n",
        "Define a class A with a method called display that prints \"This is class A.\"\n",
        "Define a class B that inherits from A, and has a method called display that prints \"This is class B.\"\n",
        "Define a class C that inherits from A, and has a method called display that prints \"This is class C.\"\n",
        "Define a class D that inherits from both B and C, and has a method called display that prints \"This is class D.\"\n",
        "Create instances of each class, objA for A, objB for B, objC for C, and objD for D.\n",
        "Call the display method on each instance to see the corresponding output."
      ],
      "metadata": {
        "id": "VtXlSgWczlD_"
      }
    },
    {
      "cell_type": "code",
      "source": [
        "class A:\n",
        "    def display(self):\n",
        "        print(\"This is class A.\")\n",
        "\n",
        "class B(A):\n",
        "    def display(self):\n",
        "        print(\"This is class B.\")\n",
        "\n",
        "class C(A):\n",
        "    def display(self):\n",
        "        print(\"This is class C.\")\n",
        "\n",
        "class D(B, C):\n",
        "    def display(self):\n",
        "        print(\"This is class D.\")\n",
        "\n",
        "objA = A()\n",
        "objB = B()\n",
        "objC = C()\n",
        "objD = D()\n",
        "\n",
        "objA.display() # This is class A.\n",
        "objB.display() # This is class B.\n",
        "objC.display() # This is class C.\n",
        "objD.display() # This is class D.\n"
      ],
      "metadata": {
        "colab": {
          "base_uri": "https://localhost:8080/"
        },
        "id": "8FXA7vLGBabH",
        "outputId": "cde03e1c-8ecc-442b-dc33-70cc18385679"
      },
      "execution_count": null,
      "outputs": [
        {
          "output_type": "stream",
          "name": "stdout",
          "text": [
            "This is class A.\n",
            "This is class B.\n",
            "This is class C.\n",
            "This is class D.\n"
          ]
        }
      ]
    },
    {
      "cell_type": "markdown",
      "source": [
        "## encapsulation \n",
        "1) Create a Python program that uses the \"Car\" class defined in the previous example. The program should create a car object with make \"Ford\", model \"Mustang\", and year 2020. The program should then print the make, model, and year of the car using the getter methods. After that, the program should modify the make to \"Chevrolet\", model to \"Camaro\", and year to 2023 using the setter methods. Finally, the program should print the updated make, model, and year of the car using the getter methods.\n"
      ],
      "metadata": {
        "id": "zbZrMBpjA5hm"
      }
    },
    {
      "cell_type": "markdown",
      "source": [
        "##Algorithm\n",
        "Define a class named \"Car\".\n",
        "In the init() method of the class, define the instance variables: __make, __model, and __year. These variables will be set by the constructor parameters.\n",
        "Define the methods \"get_make()\", \"set_make()\", \"get_model()\", \"set_model()\", \"get_year()\", and \"set_year()\" to provide access to the private instance variables.\n",
        "In the \"get_make()\" method, return the value of the __make variable.\n",
        "In the \"set_make()\" method, set the value of the __make variable to the value passed in as the parameter.\n",
        "In the \"get_model()\" method, return the value of the __model variable.\n",
        "In the \"set_model()\" method, set the value of the __model variable to the value passed in as the parameter.\n",
        "In the \"get_year()\" method, return the value of the __year variable.\n",
        "In the \"set_year()\" method, set the value of the __year variable to the value passed in as the parameter.\n",
        "Create an instance of the \"Car\" class, passing in the make, model, and year as arguments.\n",
        "Call the \"get_make()\", \"get_model()\", and \"get_year()\" methods to retrieve the values of the instance variables and print them.\n",
        "Call the \"set_make()\", \"set_model()\", and \"set_year()\" methods to change the values of the instance variables.\n",
        "Call the \"get_make()\", \"get_model()\", and \"get_year()\" methods again to retrieve the new values of the instance variables and print them."
      ],
      "metadata": {
        "id": "eBkwX_dZz9Hc"
      }
    },
    {
      "cell_type": "code",
      "source": [
        "class Car:\n",
        "    def __init__(self, make, model, year):\n",
        "        self.__make = make\n",
        "        self.__model = model\n",
        "        self.__year = year\n",
        "        \n",
        "    def get_make(self):\n",
        "        return self.__make\n",
        "    \n",
        "    def set_make(self, make):\n",
        "        self.__make = make\n",
        "        \n",
        "    def get_model(self):\n",
        "        return self.__model\n",
        "    \n",
        "    def set_model(self, model):\n",
        "        self.__model = model\n",
        "        \n",
        "    def get_year(self):\n",
        "        return self.__year\n",
        "    \n",
        "    def set_year(self, year):\n",
        "        self.__year = year\n",
        "        \n",
        "car = Car(\"Ford\", \"Mustang\", 2020)\n",
        "print(\"Make: \", car.get_make()) # Ford\n",
        "print(\"Model: \", car.get_model()) # Mustang\n",
        "print(\"Year: \", car.get_year()) # 2020\n",
        "\n",
        "car.set_make(\"Chevrolet\")\n",
        "car.set_model(\"Camaro\")\n",
        "car.set_year(2023)\n",
        "print(\"Make: \", car.get_make()) # Chevrolet\n",
        "print(\"Model: \", car.get_model()) # Camaro\n",
        "print(\"Year: \", car.get_year()) # 2023\n"
      ],
      "metadata": {
        "colab": {
          "base_uri": "https://localhost:8080/"
        },
        "id": "6U3cTMK8Clrb",
        "outputId": "5d3ed968-25f7-48e0-9a8e-78ea77c1016a"
      },
      "execution_count": null,
      "outputs": [
        {
          "output_type": "stream",
          "name": "stdout",
          "text": [
            "Make:  Ford\n",
            "Model:  Mustang\n",
            "Year:  2020\n",
            "Make:  Chevrolet\n",
            "Model:  Camaro\n",
            "Year:  2023\n"
          ]
        }
      ]
    },
    {
      "cell_type": "markdown",
      "source": [
        "2) Write a program that uses encapsulation to model a vending machine. The machine should have a list of items and their corresponding prices, and a balance attribute that represents the amount of money the user has inserted. The user should only be able to insert coins, and they should not be able to see the actual balance of the machine."
      ],
      "metadata": {
        "id": "y8Pe0XAgBiDX"
      }
    },
    {
      "cell_type": "markdown",
      "source": [
        "##Algorithm\n",
        "Start by defining the VendingMachine class.\n",
        "In the constructor, create a dictionary called \"items\" that maps the names of the items in the machine to their prices.\n",
        "Initialize the balance of the machine to 0.\n",
        "Define a method called \"insert_coin\" that takes an argument \"amount\" representing the value of the coin inserted.\n",
        "If the amount is valid (i.e., 0.25, 0.50, or 1.00), add it to the balance of the machine.\n",
        "If the amount is invalid, print \"Invalid coin.\"\n",
        "Define a method called \"select_item\" that takes an argument \"item\" representing the name of the item selected.\n",
        "If the item is available in the machine and its price is less than or equal to the machine's balance, dispense the item and deduct its price from the balance.\n",
        "If the item is unavailable or the balance is insufficient, print an appropriate message.\n",
        "End the class definition."
      ],
      "metadata": {
        "id": "DQI7nWo30tJM"
      }
    },
    {
      "cell_type": "code",
      "source": [
        "class VendingMachine:\n",
        "    def __init__(self):\n",
        "        self.items = {\n",
        "            \"Soda\": 1.50,\n",
        "            \"Chips\": 1.00,\n",
        "            \"Candy\": 0.75\n",
        "        }\n",
        "        self.balance = 0\n",
        "        \n",
        "    def insert_coin(self, amount):\n",
        "        if amount == 0.25 or amount == 0.50 or amount == 1.00:\n",
        "            self.balance += amount\n",
        "        else:\n",
        "            print(\"Invalid coin.\")\n",
        "            \n",
        "    def select_item(self, item):\n",
        "        if item in self.items and self.items[item] <= self.balance:\n",
        "            print(f\"Dispensing {item}.\")\n"
      ],
      "metadata": {
        "id": "VEyTH7gjB1I9"
      },
      "execution_count": null,
      "outputs": []
    },
    {
      "cell_type": "markdown",
      "source": [
        "3) Write a program that demonstrates encapsulation by creating a class called \"Person\". The person should have a name, age, and a method called \"introduce\" that prints out their name and age. The age should not be directly accessible from outside the class, and a separate method should be used to modify it."
      ],
      "metadata": {
        "id": "5lv4d-bHBm1T"
      }
    },
    {
      "cell_type": "markdown",
      "source": [
        "##Algorithm\n",
        "Start by defining the Person class.\n",
        "In the constructor, create two private instance variables called \"__name\" and \"__age\", and initialize them using the values passed in as arguments.\n",
        "Define a method called \"introduce\" that prints a message introducing the person with their name and age.\n",
        "Define a method called \"get_age\" that returns the person's age.\n",
        "Define a method called \"set_age\" that takes an argument \"age\" and sets the person's age to that value.\n",
        "End the class definition."
      ],
      "metadata": {
        "id": "F_eG6MtD1BAz"
      }
    },
    {
      "cell_type": "code",
      "source": [
        "class Person:\n",
        "    def __init__(self, name, age):\n",
        "        self.__name = name\n",
        "        self.__age = age\n",
        "        \n",
        "    def introduce(self):\n",
        "        print(f\"My name is {self.__name} and I am {self.__age} years old.\")\n",
        "        \n",
        "    def get_age(self):\n",
        "        return self.__age\n",
        "    \n",
        "    def set_age(self, age):\n",
        "        self.__age = age\n",
        "        \n",
        "person = Person(\"John\", 25)\n",
        "person.introduce() # My name is John and I am 25 years old.\n",
        "\n",
        "# Try to access age directly from outside the class - this will result in an AttributeError\n",
        "# print(person.__age)\n",
        "\n",
        "person.set_age(30)\n",
        "person.introduce() # My name is John and I am 30 years old.\n"
      ],
      "metadata": {
        "colab": {
          "base_uri": "https://localhost:8080/"
        },
        "id": "aNq7kcrWCKBa",
        "outputId": "4f6a1b4e-acd5-4f30-de16-53d62a55cd60"
      },
      "execution_count": null,
      "outputs": [
        {
          "output_type": "stream",
          "name": "stdout",
          "text": [
            "My name is John and I am 25 years old.\n",
            "My name is John and I am 30 years old.\n"
          ]
        }
      ]
    },
    {
      "cell_type": "markdown",
      "source": [
        "##polymorphism\n",
        "1) Write a program that demonstrates method overriding, where a subclass overrides a method from its parent class. The parent class should have a method called \"speak\" that prints out a generic message, and the subclass should override it to print out a more specific message."
      ],
      "metadata": {
        "id": "NcrcBwPzA992"
      }
    },
    {
      "cell_type": "markdown",
      "source": [
        "##Algorithm\n",
        "Start by defining the Animal class.\n",
        "Define a method called \"speak\" that prints a message saying \"This is a generic animal.\"\n",
        "Start defining the Dog class.\n",
        "Inherit from the Animal class by specifying \"Animal\" in the parentheses after the class name.\n",
        "Define a method called \"speak\" that overrides the \"speak\" method in the Animal class, and prints a message saying \"This is a dog.\"\n",
        "Start defining the Cat class.\n",
        "Inherit from the Animal class by specifying \"Animal\" in the parentheses after the class name.\n",
        "Define a method called \"speak\" that overrides the \"speak\" method in the Animal class, and prints a message saying \"This is a cat.\"\n",
        "Create an instance of the Animal class called \"animal.\"\n",
        "Call the \"speak\" method on the \"animal\" instance to print the message \"This is a generic animal.\"\n",
        "Create an instance of the Dog class called \"dog.\"\n",
        "Call the \"speak\" method on the \"dog\" instance to print the message \"This is a dog.\"\n",
        "Create an instance of the Cat class called \"cat.\"\n",
        "Call the \"speak\" method on the \"cat\" instance to print the message \"This is a cat.\"\n",
        "End the class definitions."
      ],
      "metadata": {
        "id": "ykM-Zjz31ZvR"
      }
    },
    {
      "cell_type": "code",
      "source": [
        "class Animal:\n",
        "    def speak(self):\n",
        "        print(\"This is a generic animal.\")\n",
        "        \n",
        "class Dog(Animal):\n",
        "    def speak(self):\n",
        "        print(\"This is a dog.\")\n",
        "        \n",
        "class Cat(Animal):\n",
        "    def speak(self):\n",
        "        print(\"This is a cat.\")\n",
        "        \n",
        "animal = Animal()\n",
        "animal.speak() # This is a generic animal.\n",
        "\n",
        "dog = Dog()\n",
        "dog.speak() # This is a dog.\n",
        "\n",
        "cat = Cat()\n",
        "cat.speak() # This is a cat.\n"
      ],
      "metadata": {
        "colab": {
          "base_uri": "https://localhost:8080/"
        },
        "id": "bT3ym6WsC1wv",
        "outputId": "b8c97feb-1ddb-42c0-9150-479caab0a7ad"
      },
      "execution_count": null,
      "outputs": [
        {
          "output_type": "stream",
          "name": "stdout",
          "text": [
            "This is a generic animal.\n",
            "This is a dog.\n",
            "This is a cat.\n"
          ]
        }
      ]
    },
    {
      "cell_type": "markdown",
      "source": [
        "2) Write a program that demonstrates polymorphism by creating a class hierarchy for different shapes (e.g. circle, square, triangle). Each shape should have a method called \"area\" that calculates its area, but the implementation of the method should be different for each shape."
      ],
      "metadata": {
        "id": "-j5qG3UTC82Y"
      }
    },
    {
      "cell_type": "markdown",
      "source": [
        "##Algorithm\n",
        "Start by importing the math module.\n",
        "Define the Shape class with a method called \"area\" that doesn't do anything (it will be overridden in the derived classes).\n",
        "Define the Circle class that inherits from the Shape class. In the constructor, create an instance variable called \"radius\" and initialize it with the value passed in as an argument.\n",
        "Define a method called \"area\" that calculates the area of the circle using the formula math.pi * radius^2.\n",
        "Define the Square class that inherits from the Shape class. In the constructor, create an instance variable called \"side\" and initialize it with the value passed in as an argument.\n",
        "Define a method called \"area\" that calculates the area of the square using the formula side^2.\n",
        "Define the Triangle class that inherits from the Shape class. In the constructor, create instance variables called \"base\" and \"height\" and initialize them with the values passed in as arguments.\n",
        "Define a method called \"area\" that calculates the area of the triangle using the formula 0.5 * base * height.\n",
        "Create a list of Shape objects that includes one Circle, one Square, and one Triangle object.\n",
        "Iterate over the shapes in the list, and for each shape, call the \"area\" method and print the result.\n",
        "End the class definitions."
      ],
      "metadata": {
        "id": "7_neW32F1vcl"
      }
    },
    {
      "cell_type": "code",
      "source": [
        "import math\n",
        "\n",
        "class Shape:\n",
        "    def area(self):\n",
        "        pass\n",
        "        \n",
        "class Circle(Shape):\n",
        "    def __init__(self, radius):\n",
        "        self.radius = radius\n",
        "        \n",
        "    def area(self):\n",
        "        return math.pi * self.radius ** 2\n",
        "        \n",
        "class Square(Shape):\n",
        "    def __init__(self, side):\n",
        "        self.side = side\n",
        "        \n",
        "    def area(self):\n",
        "        return self.side ** 2\n",
        "        \n",
        "class Triangle(Shape):\n",
        "    def __init__(self, base, height):\n",
        "        self.base = base\n",
        "        self.height = height\n",
        "        \n",
        "    def area(self):\n",
        "        return 0.5 * self.base * self.height\n",
        "        \n",
        "shapes = [Circle(2), Square(3), Triangle(4, 5)]\n",
        "\n",
        "for shape in shapes:\n",
        "    print(shape.area())\n"
      ],
      "metadata": {
        "colab": {
          "base_uri": "https://localhost:8080/"
        },
        "id": "fqPJgdoeDzGA",
        "outputId": "166ddb5a-b4bd-4c5e-b786-f92dbac37706"
      },
      "execution_count": null,
      "outputs": [
        {
          "output_type": "stream",
          "name": "stdout",
          "text": [
            "12.566370614359172\n",
            "9\n",
            "10.0\n"
          ]
        }
      ]
    },
    {
      "cell_type": "markdown",
      "source": [
        "3) Write a program that demonstrates the use of inheritance and polymorphism. Create a class hierarchy for different animals (e.g. dog, cat, cow). Each animal should have a \"speak\" method that returns a string representing the sound it makes, but the implementation of the method should be different for each animal. Then create a \"Zoo\" class that takes a list of animals in its constructor and has a \"make_sounds\" method that loops through the animals and calls their \"speak\" method to print out a message representing the sound each animal makes. Finally, create instances of each animal class and add them to a \"Zoo\" object, then call the \"make_sounds\" method on the zoo object to make all the animals speak."
      ],
      "metadata": {
        "id": "P3_LEFwiEZOw"
      }
    },
    {
      "cell_type": "markdown",
      "source": [
        "##Algorithm\n",
        "Define the Animal class with a constructor that takes a \"name\" parameter and sets an instance variable called \"name\" with the value of the parameter. Also define a method called \"speak\" that doesn't do anything (it will be overridden in the derived classes).\n",
        "Define the Dog class that inherits from the Animal class. Define a method called \"speak\" that returns the string \"Woof!\".\n",
        "Define the Cat class that inherits from the Animal class. Define a method called \"speak\" that returns the string \"Meow!\".\n",
        "Define the Cow class that inherits from the Animal class. Define a method called \"speak\" that returns the string \"Moo!\".\n",
        "Define the Zoo class with a constructor that takes a list of Animal objects called \"animals\". Set an instance variable called \"animals\" with the value of the parameter.\n",
        "Define a method called \"make_sounds\" that iterates over the \"animals\" list and for each animal, prints the name of the animal and the result of the \"speak\" method.\n",
        "Create a Dog object with the name \"Buddy\", a Cat object with the name \"Whiskers\", and a Cow object with the name \"Betsy\".\n",
        "Create a Zoo object with a list of the Dog, Cat, and Cow objects.\n",
        "Call the \"make_sounds\" method of the Zoo object to hear the animals speak.\n",
        "End the class definitions."
      ],
      "metadata": {
        "id": "jDAa7wxw2FK7"
      }
    },
    {
      "cell_type": "code",
      "source": [
        "class Animal:\n",
        "    def __init__(self, name):\n",
        "        self.name = name\n",
        "        \n",
        "    def speak(self):\n",
        "        pass\n",
        "        \n",
        "class Dog(Animal):\n",
        "    def speak(self):\n",
        "        return \"Woof!\"\n",
        "        \n",
        "class Cat(Animal):\n",
        "    def speak(self):\n",
        "        return \"Meow!\"\n",
        "        \n",
        "class Cow(Animal):\n",
        "    def speak(self):\n",
        "        return \"Moo!\"\n",
        "        \n",
        "class Zoo:\n",
        "    def __init__(self, animals):\n",
        "        self.animals = animals\n",
        "        \n",
        "    def make_sounds(self):\n",
        "        for animal in self.animals:\n",
        "            print(f\"{animal.name} says {animal.speak()}\")\n",
        "        \n",
        "dog = Dog(\"Buddy\")\n",
        "cat = Cat(\"Whiskers\")\n",
        "cow = Cow(\"Betsy\")\n",
        "\n",
        "zoo = Zoo([dog, cat, cow])\n",
        "zoo.make_sounds()\n"
      ],
      "metadata": {
        "colab": {
          "base_uri": "https://localhost:8080/"
        },
        "id": "isQpaUAtEXQF",
        "outputId": "c7dcdbb1-e10e-4417-ee71-567e68619609"
      },
      "execution_count": null,
      "outputs": [
        {
          "output_type": "stream",
          "name": "stdout",
          "text": [
            "Buddy says Woof!\n",
            "Whiskers says Meow!\n",
            "Betsy says Moo!\n"
          ]
        }
      ]
    },
    {
      "cell_type": "markdown",
      "source": [
        "##abstraction\n",
        "1) Create an abstract class called \"Shape\" that has an abstract method called \"area\". Then create concrete classes for different shapes (e.g. circle, square, triangle) that inherit from the \"Shape\" class and implement the \"area\" method in their own unique way."
      ],
      "metadata": {
        "id": "5ImqUiaTBAp8"
      }
    },
    {
      "cell_type": "markdown",
      "source": [
        "##Algorithm\n",
        "Import the ABC module from the abc package and the math module.\n",
        "Define an abstract base class called Shape with an abstract method area().\n",
        "Define a Circle class that inherits from Shape and takes a radius parameter in its constructor. Define an area method that calculates the area of the circle using the radius and pi from the math module.\n",
        "Define a Square class that inherits from Shape and takes a side parameter in its constructor. Define an area method that calculates the area of the square using the side.\n",
        "Define a Triangle class that inherits from Shape and takes base and height parameters in its constructor. Define an area method that calculates the area of the triangle using the base and height.\n",
        "Create instances of each shape class, passing in the required parameters.\n",
        "Create a list called shapes and add each shape instance to the list.\n",
        "Loop through the shapes list, printing out the type of each shape and its area using f-strings."
      ],
      "metadata": {
        "id": "CNjcp2nY2NLL"
      }
    },
    {
      "cell_type": "code",
      "source": [
        "from abc import ABC, abstractmethod\n",
        "import math\n",
        "\n",
        "class Shape(ABC):\n",
        "    @abstractmethod\n",
        "    def area(self):\n",
        "        pass\n",
        "        \n",
        "class Circle(Shape):\n",
        "    def __init__(self, radius):\n",
        "        self.radius = radius\n",
        "        \n",
        "    def area(self):\n",
        "        return math.pi * self.radius ** 2\n",
        "        \n",
        "class Square(Shape):\n",
        "    def __init__(self, side):\n",
        "        self.side = side\n",
        "        \n",
        "    def area(self):\n",
        "        return self.side ** 2\n",
        "        \n",
        "class Triangle(Shape):\n",
        "    def __init__(self, base, height):\n",
        "        self.base = base\n",
        "        self.height = height\n",
        "        \n",
        "    def area(self):\n",
        "        return 0.5 * self.base * self.height\n",
        "        \n",
        "# create instances of each shape\n",
        "circle = Circle(5)\n",
        "square = Square(4)\n",
        "triangle = Triangle(3, 6)\n",
        "\n",
        "# create a list of shapes\n",
        "shapes = [circle, square, triangle]\n",
        "\n",
        "# calculate the area of each shape\n",
        "for shape in shapes:\n",
        "    print(f\"The area of the {type(shape).__name__.lower()} is {shape.area():.2f}\")\n"
      ],
      "metadata": {
        "colab": {
          "base_uri": "https://localhost:8080/"
        },
        "id": "XI6kQgm2Empx",
        "outputId": "c3b4234e-5d3d-4aff-dd70-b9b541edfbba"
      },
      "execution_count": null,
      "outputs": [
        {
          "output_type": "stream",
          "name": "stdout",
          "text": [
            "The area of the circle is 78.54\n",
            "The area of the square is 16.00\n",
            "The area of the triangle is 9.00\n"
          ]
        }
      ]
    },
    {
      "cell_type": "markdown",
      "source": [
        "2) Create an abstract class called \"Animal\" that has an abstract method called \"speak\". Then create concrete classes for different types of animals (e.g. dog, cat, cow) that inherit from the \"Animal\" class and implement the \"speak\" method in their own unique way."
      ],
      "metadata": {
        "id": "CSQl2HjyEqHD"
      }
    },
    {
      "cell_type": "markdown",
      "source": [
        "##Algorithm\n",
        "Import the ABC module from the abc package.\n",
        "Define an abstract base class Animal that extends ABC.\n",
        "Define an abstract base class Pet that extends ABC.\n",
        "Define a Dog class that extends Animal and implements Pet.\n",
        "Define a speak method in Dog that returns \"Woof!\".\n",
        "Define a play method in Dog that returns \"Fetch!\".\n",
        "Define a Cat class that extends Animal and implements Pet.\n",
        "Define a speak method in Cat that returns \"Meow!\".\n",
        "Define a play method in Cat that returns \"Chase a toy!\".\n",
        "Create instances of Dog and Cat and store them in the dog and cat variables, respectively.\n",
        "Call the speak and play methods on the dog and cat instances using the dot notation.\n",
        "Print the output of the speak and play methods for both dog and cat.\n",
        "I hope this helps!"
      ],
      "metadata": {
        "id": "ruQFBCyD2f8t"
      }
    },
    {
      "cell_type": "code",
      "source": [
        "from abc import ABC, abstractmethod\n",
        "\n",
        "class Animal(ABC):\n",
        "    @abstractmethod\n",
        "    def speak(self):\n",
        "        pass\n",
        "        \n",
        "class Pet(ABC):\n",
        "    @abstractmethod\n",
        "    def play(self):\n",
        "        pass\n",
        "        \n",
        "class Dog(Animal, Pet):\n",
        "    def speak(self):\n",
        "        return \"Woof!\"\n",
        "        \n",
        "    def play(self):\n",
        "        return \"Fetch!\"\n",
        "        \n",
        "class Cat(Animal, Pet):\n",
        "    def speak(self):\n",
        "        return \"Meow!\"\n",
        "        \n",
        "    def play(self):\n",
        "        return \"Chase a toy!\"\n",
        "        \n",
        "# create instances of each pet\n",
        "dog = Dog()\n",
        "cat = Cat()\n",
        "\n",
        "# make each pet speak and play\n",
        "print(dog.speak())\n",
        "print(dog.play())\n",
        "\n",
        "print(cat.speak())\n",
        "print(cat.play())\n"
      ],
      "metadata": {
        "colab": {
          "base_uri": "https://localhost:8080/"
        },
        "id": "hKeeaKirEs4K",
        "outputId": "bc5b9ab2-d355-4094-8722-10dbafe816c2"
      },
      "execution_count": null,
      "outputs": [
        {
          "output_type": "stream",
          "name": "stdout",
          "text": [
            "Woof!\n",
            "Fetch!\n",
            "Meow!\n",
            "Chase a toy!\n"
          ]
        }
      ]
    },
    {
      "cell_type": "markdown",
      "source": [
        "3) Create an abstract class called \"Vehicle\" that has abstract methods called \"start_engine\" and \"stop_engine\". Then create concrete classes for different types of vehicles (e.g. car, truck, motorcycle) that inherit from the \"Vehicle\" class and implement the \"start_engine\" and \"stop_engine\" methods in their own unique way."
      ],
      "metadata": {
        "id": "j13ThqO2E1MP"
      }
    },
    {
      "cell_type": "markdown",
      "source": [
        "##Algorithm\n",
        "Create an abstract base class Vehicle with two abstract methods start_engine and stop_engine using the abstractmethod decorator. Also, define a non-abstract method drive which prints \"The vehicle is now driving.\"\n",
        "Create two concrete classes Car and Motorcycle that inherit from Vehicle.\n",
        "Implement the start_engine and stop_engine methods for each class by printing out appropriate messages.\n",
        "Create instances of each class.\n",
        "Call the start_engine method on each instance.\n",
        "Call the drive method on each instance.\n",
        "Call the stop_engine method on each instance."
      ],
      "metadata": {
        "id": "wpRHYun521mr"
      }
    },
    {
      "cell_type": "code",
      "source": [
        "from abc import ABC, abstractmethod\n",
        "\n",
        "class Vehicle(ABC):\n",
        "    @abstractmethod\n",
        "    def start_engine(self):\n",
        "        pass\n",
        "    \n",
        "    @abstractmethod\n",
        "    def stop_engine(self):\n",
        "        pass\n",
        "    \n",
        "    def drive(self):\n",
        "        print(\"The vehicle is now driving.\")\n",
        "\n",
        "class Car(Vehicle):\n",
        "    def start_engine(self):\n",
        "        print(\"The car's engine has started.\")\n",
        "        \n",
        "    def stop_engine(self):\n",
        "        print(\"The car's engine has stopped.\")\n",
        "        \n",
        "class Motorcycle(Vehicle):\n",
        "    def start_engine(self):\n",
        "        print(\"The motorcycle's engine has started.\")\n",
        "        \n",
        "    def stop_engine(self):\n",
        "        print(\"The motorcycle's engine has stopped.\")\n",
        "        \n",
        "# create instances of each vehicle\n",
        "car = Car()\n",
        "motorcycle = Motorcycle()\n",
        "\n",
        "# start the engine of each vehicle\n",
        "car.start_engine()\n",
        "motorcycle.start_engine()\n",
        "\n",
        "# drive each vehicle\n",
        "car.drive()\n",
        "motorcycle.drive()\n",
        "\n",
        "# stop the engine of each vehicle\n",
        "car.stop_engine()\n",
        "motorcycle.stop_engine()\n"
      ],
      "metadata": {
        "colab": {
          "base_uri": "https://localhost:8080/"
        },
        "id": "oUljD5JGE0Aq",
        "outputId": "9b876a82-2a66-4eb2-cb38-fdb5fbabd6b4"
      },
      "execution_count": null,
      "outputs": [
        {
          "output_type": "stream",
          "name": "stdout",
          "text": [
            "The car's engine has started.\n",
            "The motorcycle's engine has started.\n",
            "The vehicle is now driving.\n",
            "The vehicle is now driving.\n",
            "The car's engine has stopped.\n",
            "The motorcycle's engine has stopped.\n"
          ]
        }
      ]
    }
  ]
}