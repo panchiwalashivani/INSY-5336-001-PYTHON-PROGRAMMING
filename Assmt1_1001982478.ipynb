{
  "nbformat": 4,
  "nbformat_minor": 0,
  "metadata": {
    "colab": {
      "provenance": []
    },
    "kernelspec": {
      "name": "python3",
      "display_name": "Python 3"
    },
    "language_info": {
      "name": "python"
    }
  },
  "cells": [
    {
      "cell_type": "markdown",
      "source": [
        "## 1. High-level algorithm:\n",
        "The program prompts the user to enter the first, second, and third strings.\n",
        "It concatenates the first and second strings in reverse order using string slicing.\n",
        "It compares the concatenated string with the third string using the == operator.\n",
        "If the two strings are equal, the program prints \"They are equal\", otherwise it prints \"They are not equal\"."
      ],
      "metadata": {
        "id": "dyv0BtWTyYqW"
      }
    },
    {
      "cell_type": "code",
      "source": [
        "# Prompt the user to enter the first string\n",
        "first_string = input(\"Enter first string: \")\n",
        "\n",
        "# Prompt the user to enter the second string\n",
        "second_string = input(\"Enter second string: \")\n",
        "\n",
        "# Concatenate the first and second string in reverse order\n",
        "concatenated_string = second_string + first_string\n",
        "\n",
        "# Prompt the user to enter the third string\n",
        "third_string = input(\"Enter third string: \")\n",
        "\n",
        "# Compare the concatenated string with the third string\n",
        "if concatenated_string == third_string:\n",
        "    print(\"They are equal\")\n",
        "else:\n",
        "    print(\"They are not equal\")\n"
      ],
      "metadata": {
        "colab": {
          "base_uri": "https://localhost:8080/"
        },
        "id": "Hr93SCzWQy3z",
        "outputId": "61e5cf36-5cef-4b89-b0e1-f1aa1f2c0c37"
      },
      "execution_count": null,
      "outputs": [
        {
          "output_type": "stream",
          "name": "stdout",
          "text": [
            "Enter first string: you2!\n",
            "Enter second string: Thank\n",
            "Enter third string: Thankyou!\n",
            "They are not equal\n"
          ]
        }
      ]
    },
    {
      "cell_type": "markdown",
      "source": [
        "## 2. High-level algorithm:\n",
        "The program prompts the user to enter the number of integers (3 or 4).\n",
        "The program prompts the user to enter the integers, separated by spaces.\n",
        "The input string is split into a list of strings using the split() method.\n",
        "The list of strings is converted to a list of integers using a list comprehension.\n",
        "The program calculates the average of the numbers by summing the integers and dividing by the number of integers.\n",
        "The program calculates the maximum of the numbers by iterating through the list of integers and updating the maximum variable if a larger number is found.\n",
        "The program displays the results using f-strings with two decimal places for the average and the join() method to format the list of integers as a string."
      ],
      "metadata": {
        "id": "XWNpeseV2sqY"
      }
    },
    {
      "cell_type": "code",
      "source": [
        "# Prompt the user to enter the number of integers (3 or 4)\n",
        "num_integers = int(input(\"Enter the number of integers (3 or 4): \"))\n",
        "\n",
        "# Prompt the user to enter the integers\n",
        "integers = input(\"Enter the integers separated by space: \").split()\n",
        "\n",
        "# Convert the input strings to integers\n",
        "integers = [int(num) for num in integers]\n",
        "\n",
        "# Calculate the average of the numbers\n",
        "average = sum(integers) / num_integers\n",
        "\n",
        "# Calculate the maximum of the numbers\n",
        "maximum = integers[0]\n",
        "for num in integers:\n",
        "    if num > maximum:\n",
        "        maximum = num\n",
        "\n",
        "# Display the results\n",
        "integers_str = \", \".join(str(num) for num in integers)\n",
        "print(f\"The average of {integers_str} is: {average:.2f}\")\n",
        "print(f\"The maximum of the {num_integers} numbers is: {maximum}\")\n"
      ],
      "metadata": {
        "colab": {
          "base_uri": "https://localhost:8080/"
        },
        "id": "qJPloQe9VLFs",
        "outputId": "6292660c-87bc-4794-9fc9-fa94a95d6b7c"
      },
      "execution_count": null,
      "outputs": [
        {
          "output_type": "stream",
          "name": "stdout",
          "text": [
            "Enter the number of integers (3 or 4): 3\n",
            "Enter the integers separated by space: 1 2 3\n",
            "The average of 1, 2, 3 is: 2.00\n",
            "The maximum of the 3 numbers is: 3\n"
          ]
        }
      ]
    },
    {
      "cell_type": "markdown",
      "source": [
        "## 3. High-level algorithm:\n",
        "The program uses a while loop to repeatedly prompt the user to enter a positive integer until a valid input is provided.\n",
        "The try block attempts to convert the user input to an integer. If the input is not a valid integer, a ValueError is raised and the program prints an error message.\n",
        "If the input is valid, the program checks if the number is less than or equal to 1. If so, the program prints the message \"It is neither prime nor composite.\"\n",
        "If the input is greater than 1, the program uses a for loop to check if the number is divisible by any integer between 2 and the number (exclusive). If the number is divisible by any integer in this range, it is composite. Otherwise, it is prime.\n",
        "The program prints the appropriate message based on whether the number is prime or composite.\n",
        "\n",
        "\n",
        "\n"
      ],
      "metadata": {
        "id": "CnlrPyvKlXyA"
      }
    },
    {
      "cell_type": "code",
      "source": [
        "while True:\n",
        "    try:\n",
        "        # Prompt the user to enter a positive integer\n",
        "        num = int(input(\"Enter a positive integer: \"))\n",
        "        if num < 0:\n",
        "          print(\"You did not enter a positive integer\")\n",
        "        else:\n",
        "          if num <= 1:\n",
        "            print(\"It is neither prime nor composite\")\n",
        "          else:\n",
        "            # Determine if the number is prime or composite\n",
        "            is_prime = True\n",
        "            for i in range(2, num):\n",
        "                if num % i == 0:\n",
        "                    is_prime = False\n",
        "                    break\n",
        "            \n",
        "            # Print the appropriate message\n",
        "            if is_prime:\n",
        "                print(\"It is a prime\")\n",
        "            else:\n",
        "                print(\"It is a composite\")\n",
        "                \n",
        "        break\n",
        "    except ValueError:\n",
        "        print(\"Error: You did not enter a positive integer\")\n"
      ],
      "metadata": {
        "colab": {
          "base_uri": "https://localhost:8080/"
        },
        "id": "v2AQAFumW33O",
        "outputId": "9ebc1bae-9a08-41a8-b0c5-8f5c28ae8c32"
      },
      "execution_count": null,
      "outputs": [
        {
          "output_type": "stream",
          "name": "stdout",
          "text": [
            "Enter a positive integer: -2.5\n",
            "Error: You did not enter a positive integer\n",
            "Enter a positive integer: Hi\n",
            "Error: You did not enter a positive integer\n",
            "Enter a positive integer: 2\n",
            "It is a prime\n"
          ]
        }
      ]
    },
    {
      "cell_type": "markdown",
      "source": [
        "## 4. High-level algorithm:\n",
        "Define SimpleInterest function and then Return calculated simple interest from the function and Read user input for function params and call function to calculate simple interest\n",
        "\n",
        "\n",
        "\n"
      ],
      "metadata": {
        "id": "q7q1bsgJo_xA"
      }
    },
    {
      "cell_type": "code",
      "source": [
        "# Function to calculate simple interest\n",
        "\n",
        "def simple_interest(principle, interest, years):\n",
        "  si = ((principle * interest) * years) / 100\n",
        "\n",
        "  return si\n",
        "\n",
        "# Read user input\n",
        "try:\n",
        "  principle = float(input(\"Enter principle amount(float value only): \"))\n",
        "  interest = float(input(\"Enter interest rate(float value between 0 - 100% only): \"))\n",
        "  years = int(input(\"Enter number of years(integer only): \"))\n",
        "\n",
        "  if interest < 0 or interest > 100:\n",
        "    print(\"Invalid interest value\")\n",
        "  else:\n",
        "    print(f'Simple Interest = {simple_interest(principle, interest, years)}')\n",
        "\n",
        "  \n",
        "except ValueError:\n",
        "  print(\"Invalid value\")"
      ],
      "metadata": {
        "colab": {
          "base_uri": "https://localhost:8080/"
        },
        "id": "-8F_wwWaplCt",
        "outputId": "aa0fce6b-d407-46c6-84c6-d4ee341cb0aa"
      },
      "execution_count": null,
      "outputs": [
        {
          "output_type": "stream",
          "name": "stdout",
          "text": [
            "Enter principle amount(float value only): 6.7\n",
            "Enter interest rate(float value between 0 - 100% only): 3.5\n",
            "Enter number of years(integer only): 5\n",
            "Simple Interest = 1.1725\n"
          ]
        }
      ]
    },
    {
      "cell_type": "markdown",
      "source": [
        "## 5. High-level algorithm\n",
        "In this program, we first initialize an empty list cart and a total_price variable to keep track of the total cost of all items in the cart.\n",
        "\n",
        "We then use a while loop to repeatedly ask the user to enter a product name and price. If the user enters \"done\", the loop exits. Otherwise, we validate the price input to ensure it is a positive number, and add the product name and price as a dictionary to the cart list and update the total_price.\n",
        "\n",
        "After the loop, we use string formatting to print a table of all the items in the cart, with columns for product name and price. Finally, we print the total price formatted with two decimal places and commas to separate thousands."
      ],
      "metadata": {
        "id": "ePXjTVEsqgCf"
      }
    },
    {
      "cell_type": "code",
      "source": [
        "# initialize empty cart and total price\n",
        "cart = []\n",
        "total_price = 0\n",
        "\n",
        "# loop to allow shopper to enter products\n",
        "while True:\n",
        "    product_name = input(\"Enter product name (or 'done' to finish): \")\n",
        "    if product_name.lower() == 'done':\n",
        "        break\n",
        "    try:\n",
        "        product_price = float(input(\"Enter product price: $\"))\n",
        "        if product_price <= 0:\n",
        "            print(\"Price must be more than $0.\")\n",
        "            continue\n",
        "        cart.append({'name': product_name, 'price': product_price})\n",
        "        total_price += product_price\n",
        "    except ValueError:\n",
        "        print(\"Price must be a valid number.\")\n",
        "\n",
        "# print the list of items in the cart\n",
        "print(\"\\nShopping Cart:\")\n",
        "print(\"{:<20} {:<10}\".format(\"Product Name\", \"Price\"))\n",
        "for item in cart:\n",
        "    print(\"{:<20} ${:<10.2f}\".format(item['name'], item['price']))\n",
        "\n",
        "# print the total price\n",
        "print(\"\\nTotal: ${:,.2f}\".format(total_price))\n"
      ],
      "metadata": {
        "colab": {
          "base_uri": "https://localhost:8080/"
        },
        "id": "XIZRoq5Bq29c",
        "outputId": "676a7850-2b20-4a8a-82ba-f6a57b65b0f4"
      },
      "execution_count": null,
      "outputs": [
        {
          "output_type": "stream",
          "name": "stdout",
          "text": [
            "Enter product name (or 'done' to finish): Apple\n",
            "Enter product price: $12\n",
            "Enter product name (or 'done' to finish): Banana\n",
            "Enter product price: $20\n",
            "Enter product name (or 'done' to finish): Mango\n",
            "Enter product price: $35\n",
            "Enter product name (or 'done' to finish): done\n",
            "\n",
            "Shopping Cart:\n",
            "Product Name         Price     \n",
            "Apple                $12.00     \n",
            "Banana               $20.00     \n",
            "Mango                $35.00     \n",
            "\n",
            "Total: $67.00\n"
          ]
        }
      ]
    },
    {
      "cell_type": "markdown",
      "source": [
        "## 6. High-level algorithm\n",
        "In this program, we define a function determine_winner to determine the winner based on the rules of rock-paper-scissors. The function takes two arguments: the user's choice and the computer's choice.\n",
        "\n",
        "We then prompt the user to enter their choice of rock, paper, or scissors. We validate the input to ensure it is one of these three choices. If the user's choice is valid, we use the random module to randomly choose the computer's choice, and print it.\n",
        "\n",
        "We then call the determine_winner function with the user's choice and the computer's choice, and print the result."
      ],
      "metadata": {
        "id": "mawmF-2Vs6cm"
      }
    },
    {
      "cell_type": "code",
      "source": [
        "import random\n",
        "\n",
        "# function to determine winner\n",
        "def determine_winner(user_choice, computer_choice):\n",
        "    if user_choice == computer_choice:\n",
        "        return \"tie\"\n",
        "    elif user_choice == \"rock\":\n",
        "        if computer_choice == \"scissors\":\n",
        "            return \"user\"\n",
        "        else:\n",
        "            return \"computer\"\n",
        "    elif user_choice == \"paper\":\n",
        "        if computer_choice == \"rock\":\n",
        "            return \"user\"\n",
        "        else:\n",
        "            return \"computer\"\n",
        "    elif user_choice == \"scissors\":\n",
        "        if computer_choice == \"paper\":\n",
        "            return \"user\"\n",
        "        else:\n",
        "            return \"computer\"\n",
        "\n",
        "# get user choice\n",
        "user_choice = input(\"Enter your choice (rock, paper, scissors): \").lower()\n",
        "\n",
        "# validate user choice\n",
        "valid_choices = ['rock', 'paper', 'scissors']\n",
        "if user_choice not in valid_choices:\n",
        "    print(\"Invalid choice.\")\n",
        "else:\n",
        "    # randomly choose computer's choice\n",
        "    computer_choice = random.choice(valid_choices)\n",
        "    print(f\"Computer chooses {computer_choice}\")\n",
        "\n",
        "    # determine winner and print result\n",
        "    winner = determine_winner(user_choice, computer_choice)\n",
        "    if winner == \"tie\":\n",
        "        print(\"It's a tie!\")\n",
        "    else:\n",
        "        print(f\"You, the {winner}, win!\")\n"
      ],
      "metadata": {
        "colab": {
          "base_uri": "https://localhost:8080/"
        },
        "id": "KXmFu1gas9k5",
        "outputId": "f083dc01-88ba-4bb7-da36-e2e1acbee901"
      },
      "execution_count": null,
      "outputs": [
        {
          "output_type": "stream",
          "name": "stdout",
          "text": [
            "Enter your choice (rock, paper, scissors): rock\n",
            "Computer chooses paper\n",
            "You, the computer, win!\n"
          ]
        }
      ]
    },
    {
      "cell_type": "markdown",
      "source": [
        "## 7. High-level algorithm\n",
        "In this program, we define a function get_user_input to prompt the user to enter a number between 1 and 100 (inclusive) and validate the input. We use a while loop to ensure that the user enters a valid input.\n",
        "\n",
        "We then define a function guess_number to guess the number entered by the user. We use a while loop to keep guessing until the computer guesses the correct number. We use the random module to generate a random guess between the minimum and maximum possible values, and update the minimum or maximum value based on whether the guess is too low or too high.\n",
        "\n",
        "Finally, we call get_user_input to get the user's input, call guess_number to guess the number, and print the result."
      ],
      "metadata": {
        "id": "zGyJRMQLtqCV"
      }
    },
    {
      "cell_type": "code",
      "source": [
        "import random\n",
        "\n",
        "# function to get user input\n",
        "def get_user_input():\n",
        "    while True:\n",
        "        try:\n",
        "            user_input = int(input(\"Enter a number between 1 and 100 (inclusive): \"))\n",
        "            if user_input < 1 or user_input > 100:\n",
        "                print(\"Invalid input. Please enter a number between 1 and 100 (inclusive).\")\n",
        "            else:\n",
        "                return user_input\n",
        "        except ValueError:\n",
        "            print(\"Invalid input. Please enter a number between 1 and 100 (inclusive).\")\n",
        "\n",
        "# function to guess the number\n",
        "def guess_number():\n",
        "    min_number = 1\n",
        "    max_number = 100\n",
        "    num_guesses = 0\n",
        "    while True:\n",
        "        num_guesses += 1\n",
        "        computer_guess = random.randint(min_number, max_number)\n",
        "        print(f\"Computer guess: {computer_guess}\")\n",
        "        if computer_guess == user_input:\n",
        "            return num_guesses\n",
        "        elif computer_guess < user_input:\n",
        "            min_number = computer_guess + 1\n",
        "        else:\n",
        "            max_number = computer_guess - 1\n",
        "\n",
        "# main program\n",
        "user_input = get_user_input()\n",
        "num_guesses = guess_number()\n",
        "print(f\"You entered {user_input}, and it took the program {num_guesses} iterations to guess.\")\n"
      ],
      "metadata": {
        "colab": {
          "base_uri": "https://localhost:8080/"
        },
        "id": "Sf2JJcEnt122",
        "outputId": "60ecf2d3-bb58-4823-d33a-2a28e6c444a7"
      },
      "execution_count": null,
      "outputs": [
        {
          "output_type": "stream",
          "name": "stdout",
          "text": [
            "Enter a number between 1 and 100 (inclusive): 23\n",
            "Computer guess: 93\n",
            "Computer guess: 35\n",
            "Computer guess: 32\n",
            "Computer guess: 15\n",
            "Computer guess: 17\n",
            "Computer guess: 19\n",
            "Computer guess: 31\n",
            "Computer guess: 24\n",
            "Computer guess: 20\n",
            "Computer guess: 23\n",
            "You entered 23, and it took the program 10 iterations to guess.\n"
          ]
        }
      ]
    }
  ]
}